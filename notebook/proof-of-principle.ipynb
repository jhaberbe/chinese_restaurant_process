{
 "cells": [
  {
   "cell_type": "markdown",
   "id": "2a7f454e",
   "metadata": {},
   "source": [
    "# Assembling our NB CRP "
   ]
  },
  {
   "cell_type": "code",
   "execution_count": 430,
   "id": "df2f699b",
   "metadata": {},
   "outputs": [
    {
     "name": "stderr",
     "output_type": "stream",
     "text": [
      "/Users/jameshaberberger/GitHub/chinese-restaurant-process/.venv/lib/python3.12/site-packages/anndata/_core/storage.py:39: ImplicitModificationWarning: X should not be a np.matrix, use np.ndarray instead.\n",
      "  warnings.warn(msg, ImplicitModificationWarning)\n"
     ]
    }
   ],
   "source": [
    "import scanpy as sc\n",
    "\n",
    "adata = sc.read_h5ad(\"/Users/jameshaberberger/GitHub/chinese-restaurant-process/data/adata.h5ad\")\n",
    "adata.X = adata.X.todense()\n",
    "\n",
    "counts = torch.tensor(adata.X)\n",
    "counts = counts[counts.sum(axis=1) > 300][::10]\n",
    "size_factors = (counts.sum(axis=1) / counts.sum(axis=1).mean()).log()"
   ]
  },
  {
   "cell_type": "markdown",
   "id": "190191ed",
   "metadata": {},
   "source": [
    "### Conjugate-like posterior predictive using a Gamma-Poisson Approximation\n",
    "\n",
    "$$\n",
    "x_n \\sim \\text{Poisson}(\\lambda_k)\n",
    "$$\n",
    "\n",
    "$$\n",
    "\\lambda_k \\sim \\text{Gamma}(\\alpha_k, \\beta_k)\n",
    "$$\n",
    "\n",
    "The wonderful thing here is that the sufficient statistics are just derived from taking aggregates of the population, so the posterior predictives are literally just:\n",
    "\n",
    "$$\n",
    "\\alpha_k^{\\text{ post }} = \\alpha_0 + \\sum x_i\n",
    "$$\n",
    "\n",
    "$$\n",
    "\\beta_k^{\\text{ post }} = \\beta_0 + N_k\n",
    "$$\n",
    "\n",
    "Lets do it really manually, to show whats going on."
   ]
  },
  {
   "cell_type": "code",
   "execution_count": 323,
   "id": "b3fb18e0",
   "metadata": {},
   "outputs": [],
   "source": [
    "import torch\n",
    "\n",
    "import pyro\n",
    "import pyro.distributions as dist"
   ]
  },
  {
   "cell_type": "markdown",
   "id": "161149a7",
   "metadata": {},
   "source": [
    "Our global priors are just the moments (the mean and variance)."
   ]
  },
  {
   "cell_type": "code",
   "execution_count": 364,
   "id": "1a4e7f90",
   "metadata": {},
   "outputs": [],
   "source": [
    "alpha_prior = counts.mean(dim=0).pow(2) / counts.var(dim=0)\n",
    "beta_prior = counts.mean(dim=0) / counts.var(dim=0)"
   ]
  },
  {
   "cell_type": "code",
   "execution_count": 365,
   "id": "658e8dc5",
   "metadata": {},
   "outputs": [],
   "source": [
    "class ChineseRestaurantTable:\n",
    "    beta_prior_ = None\n",
    "    alpha_prior_ = None\n",
    "\n",
    "    def __init__(self, alpha_prior, beta_prior):\n",
    "        self.set_prior(alpha_prior, beta_prior)\n",
    "        self.indices = []\n",
    "\n",
    "    @classmethod\n",
    "    def set_prior(cls, alpha_prior, beta_prior):\n",
    "        cls.alpha_prior_ = alpha_prior\n",
    "        cls.beta_prior_ = beta_prior\n",
    "    \n",
    "    def posterior_alpha(self, data, new_index = None):\n",
    "        if new_index is not None:\n",
    "            return self.alpha_prior_ + data[self.indices + [new_index]].sum(dim=0)\n",
    "        else:\n",
    "            return self.alpha_prior_ + data[self.indices].sum(dim=0)\n",
    "\n",
    "    def posterior_beta(self, new_index = None):\n",
    "        if new_index is not None:\n",
    "            return self.beta_prior_ + (len(self.indices) + 1)\n",
    "        else:\n",
    "            return self.beta_prior_ + len(self.indices)\n",
    "    \n",
    "    def log_likelihood(self, counts, new_index, size_factors):\n",
    "        return dist.NegativeBinomial(\n",
    "            total_count=self.posterior_alpha(counts, new_index=new_index), \n",
    "            logits=-torch.log1p(1 / self.posterior_beta(new_index=new_index)) + size_factors[new_index]\n",
    "        ).log_prob(counts[new_index]).sum()\n",
    "    \n",
    "    def add_index(self, index):\n",
    "        if index not in self.indices:\n",
    "            self.indices.append(index)\n",
    "        else:\n",
    "            raise ValueError(f\"Index {index} already exists in the table.\")\n",
    "    \n",
    "    def remove_index(self, index):\n",
    "        if index in self.indices:\n",
    "            self.indices.remove(index)\n",
    "        else:\n",
    "            raise ValueError(f\"Index {index} does not exist in the table.\")\n",
    "    \n",
    "    def __len__(self):\n",
    "        return len(self.indices)"
   ]
  },
  {
   "cell_type": "code",
   "execution_count": 419,
   "id": "882c11bc",
   "metadata": {},
   "outputs": [],
   "source": [
    "class ChineseRestaurantTable:\n",
    "    beta_prior_ = None\n",
    "    alpha_prior_ = None\n",
    "\n",
    "    def __init__(self, alpha_prior, beta_prior):\n",
    "        self.set_prior(alpha_prior, beta_prior)\n",
    "        self.indices = []\n",
    "        self.age = 0               # number of iterations alive\n",
    "        self.inactive_steps = 0   # # of times it's under threshold\n",
    "\n",
    "    @classmethod\n",
    "    def set_prior(cls, alpha_prior, beta_prior):\n",
    "        cls.alpha_prior_ = alpha_prior\n",
    "        cls.beta_prior_ = beta_prior\n",
    "    \n",
    "    def posterior_alpha(self, data, new_index = None):\n",
    "        if new_index is not None:\n",
    "            return self.alpha_prior_ + data[self.indices + [new_index]].sum(dim=0)\n",
    "        else:\n",
    "            return self.alpha_prior_ + data[self.indices].sum(dim=0)\n",
    "\n",
    "    def posterior_beta(self, new_index = None):\n",
    "        if new_index is not None:\n",
    "            return self.beta_prior_ + (len(self.indices) + 1)\n",
    "        else:\n",
    "            return self.beta_prior_ + len(self.indices)\n",
    "    \n",
    "    def log_likelihood(self, counts, new_index, size_factors):\n",
    "        return dist.NegativeBinomial(\n",
    "            total_count=self.posterior_alpha(counts, new_index=new_index), \n",
    "            logits=-torch.log1p(1 / self.posterior_beta(new_index=new_index)) + size_factors[new_index]\n",
    "        ).log_prob(counts[new_index]).sum()\n",
    "    \n",
    "    def add_index(self, index):\n",
    "        if index not in self.indices:\n",
    "            self.indices.append(index)\n",
    "        else:\n",
    "            raise ValueError(f\"Index {index} already exists in the table.\")\n",
    "    \n",
    "    def remove_index(self, index):\n",
    "        if index in self.indices:\n",
    "            self.indices.remove(index)\n",
    "        else:\n",
    "            raise ValueError(f\"Index {index} does not exist in the table.\")\n",
    "    \n",
    "    def __len__(self):\n",
    "        return len(self.indices)\n",
    "\n",
    "    def log_marginal_likelihood(self, data, new_index, size_factors, eps=1e-6):\n",
    "        α0 = torch.clamp(self.alpha_prior_, min=eps)\n",
    "        β0 = torch.clamp(self.beta_prior_, min=eps)\n",
    "\n",
    "        indices = self.indices + [new_index]\n",
    "        X = data[indices]\n",
    "        S = size_factors[indices].unsqueeze(1)\n",
    "\n",
    "        X_adj = X / S\n",
    "        X_adj = torch.clamp(X_adj, min=eps)  # guard against zeros\n",
    "\n",
    "        sum_x = X_adj.sum(dim=0)  # (D,)\n",
    "        n = X_adj.shape[0]\n",
    "\n",
    "        denom = β0 + n\n",
    "        safe_denom = torch.clamp(denom, min=eps)\n",
    "        safe_log_ratio = torch.log(torch.clamp(β0 / safe_denom, min=eps))\n",
    "        safe_log_inv_denom = torch.log(torch.clamp(1.0 / safe_denom, min=eps))\n",
    "\n",
    "        lgamma_x_plus_1 = torch.lgamma(X_adj + 1)\n",
    "        sum_lgamma_x_plus_1 = lgamma_x_plus_1.sum(dim=0)\n",
    "\n",
    "        log_prob = (\n",
    "            torch.lgamma(sum_x + α0)\n",
    "            - sum_lgamma_x_plus_1\n",
    "            - torch.lgamma(α0)\n",
    "            + α0 * safe_log_ratio\n",
    "            + sum_x * safe_log_inv_denom\n",
    "        )\n",
    "\n",
    "        return log_prob.sum()\n",
    "\n"
   ]
  },
  {
   "cell_type": "markdown",
   "id": "b401997e",
   "metadata": {},
   "source": [
    "# Marginal Likelihood"
   ]
  },
  {
   "cell_type": "code",
   "execution_count": 433,
   "id": "f949d117",
   "metadata": {},
   "outputs": [
    {
     "name": "stderr",
     "output_type": "stream",
     "text": [
      "100%|██████████| 1832/1832 [00:26<00:00, 68.69it/s]\n"
     ]
    }
   ],
   "source": [
    "import torch\n",
    "import torch.nn.functional as F\n",
    "from tqdm import tqdm\n",
    "from IPython.display import clear_output\n",
    "\n",
    "alpha = 10 / np.log(counts.shape[0])\n",
    "assignments = [-1] * counts.shape[0]\n",
    "clusters = dict()\n",
    "\n",
    "for epoch in range(10):\n",
    "    for ix in tqdm(range(counts.shape[0])):\n",
    "        ix = int(ix)  # ensure integer indexing\n",
    "        k_old = assignments[ix]\n",
    "        assignments[ix] = -1  # temporarily remove assignment\n",
    "\n",
    "        # Remove from old cluster\n",
    "        if k_old != -1:\n",
    "            clusters[k_old].remove_index(ix)\n",
    "            if len(clusters[k_old]) == 0:\n",
    "                del clusters[k_old]\n",
    "\n",
    "        # Prepare candidate cluster list\n",
    "        crp_new = ChineseRestaurantTable(alpha_prior, beta_prior)\n",
    "        labels = list(clusters.keys()) + [\"new\"]\n",
    "\n",
    "        log_probs = []\n",
    "\n",
    "        for k in labels:\n",
    "            if k == \"new\":\n",
    "                log_lik = crp_new.log_marginal_likelihood(\n",
    "                    counts, new_index=ix, size_factors=size_factors\n",
    "                )\n",
    "                log_prior = np.log(alpha)\n",
    "            else:\n",
    "                log_lik = clusters[k].log_marginal_likelihood(\n",
    "                    counts, new_index=ix, size_factors=size_factors\n",
    "                )\n",
    "                log_prior = np.log(len(clusters[k]))\n",
    "\n",
    "            # Normalize likelihood per feature dimension\n",
    "            log_prob = (log_lik / counts.shape[1]) + log_prior\n",
    "            log_probs.append(log_prob)\n",
    "\n",
    "        # Convert to tensor and compute softmax\n",
    "        log_probs = torch.stack(log_probs)  # shape: (K+1,)\n",
    "        probs = F.softmax(log_probs, dim=0)\n",
    "\n",
    "        # Sample new assignment\n",
    "        k_idx = torch.multinomial(probs, num_samples=1).item()\n",
    "        k_new = labels[k_idx]\n",
    "\n",
    "        if k_new == \"new\":\n",
    "            k_new = max(clusters.keys(), default=-1) + 1\n",
    "            clusters[k_new] = crp_new\n",
    "\n",
    "        assignments[ix] = k_new\n",
    "        clusters[k_new].add_index(ix)\n",
    "\n",
    "        # Clean up inactive clusters\n",
    "        min_members = 10\n",
    "        max_inactive = 500\n",
    "\n",
    "        for k, table in list(clusters.items()):\n",
    "            table.age += 1\n",
    "\n",
    "            if len(table) < min_members:\n",
    "                table.inactive_steps += 1\n",
    "            else:\n",
    "                table.inactive_steps = 0  # reset if it regains members\n",
    "\n",
    "            if table.inactive_steps >= max_inactive:\n",
    "                # Remove the table and reassign its members\n",
    "                print(f\"Deleting inactive table {k}\")\n",
    "                for ix in table.indices:\n",
    "                    assignments[ix] = -1  # mark as unassigned\n",
    "                del clusters[k]\n",
    "        clear_output()\n",
    "\n"
   ]
  },
  {
   "cell_type": "code",
   "execution_count": 434,
   "id": "c1326ead",
   "metadata": {},
   "outputs": [
    {
     "data": {
      "text/plain": [
       "<Axes: >"
      ]
     },
     "execution_count": 434,
     "metadata": {},
     "output_type": "execute_result"
    },
    {
     "data": {
      "image/png": "[encoded data removed]",
      "text/plain": [
       "<Figure size 640x480 with 1 Axes>"
      ]
     },
     "metadata": {},
     "output_type": "display_data"
    }
   ],
   "source": [
    "pd.Series(assignments).value_counts().iloc[1:20].plot.bar()"
   ]
  }
 ],
 "metadata": {
  "kernelspec": {
   "display_name": ".venv",
   "language": "python",
   "name": "python3"
  },
  "language_info": {
   "codemirror_mode": {
    "name": "ipython",
    "version": 3
   },
   "file_extension": ".py",
   "mimetype": "text/x-python",
   "name": "python",
   "nbconvert_exporter": "python",
   "pygments_lexer": "ipython3",
   "version": "3.12.7"
  }
 },
 "nbformat": 4,
 "nbformat_minor": 5
}
