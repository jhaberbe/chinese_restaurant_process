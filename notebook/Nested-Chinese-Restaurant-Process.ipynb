{
 "cells": [
  {
   "cell_type": "markdown",
   "id": "7404207f",
   "metadata": {},
   "source": [
    "# Trees!\n",
    "\n",
    "Oftentimes, we don't want to just settle for flat representations of our dataset, we would also like to learn heirarchical structure as part of the inc "
   ]
  },
  {
   "cell_type": "code",
   "execution_count": 2,
   "id": "8d5e1cae",
   "metadata": {},
   "outputs": [],
   "source": [
    "!pip install git+https://www.github.com/jhaberbe/chinese_restaurant_process --quiet"
   ]
  },
  {
   "cell_type": "code",
   "execution_count": 3,
   "id": "62c2a91e",
   "metadata": {},
   "outputs": [],
   "source": [
    "import numpy as np\n",
    "from crp.table import ChineseRestaurantTable, DirichletMultinomialTable, NegativeBinomialTable"
   ]
  },
  {
   "cell_type": "code",
   "execution_count": 1,
   "id": "15622d8a",
   "metadata": {},
   "outputs": [
    {
     "name": "stderr",
     "output_type": "stream",
     "text": [
      "/Users/jameshaberberger/GitHub/chinese_restaurant_process/.venv/lib/python3.13/site-packages/scanpy/preprocessing/_highly_variable_genes.py:172: ImplicitModificationWarning: Trying to modify attribute `._uns` of view, initializing view as actual.\n",
      "  adata.uns[\"hvg\"] = {\"flavor\": flavor}\n"
     ]
    }
   ],
   "source": [
    "import numpy as np\n",
    "import scanpy as sc\n",
    "\n",
    "adata = sc.read_h5ad(\"/Users/jameshaberberger/GitHub/choroid-plexus/new_annotations.h5ad\")\n",
    "adata = adata[adata.obs[\"Cell.Subtype\"].ne(\"Doublet\")]\n",
    "sc.pp.highly_variable_genes(adata, flavor=\"seurat_v3\")\n",
    "adata = adata[adata.X.sum(axis=1) > 300, adata.var[\"highly_variable\"]]"
   ]
  },
  {
   "cell_type": "code",
   "execution_count": 4,
   "id": "59eb359a",
   "metadata": {},
   "outputs": [],
   "source": [
    "counts = adata.X.todense()[:, adata.var[\"highly_variable\"]]\n",
    "size_factors = np.log(counts.sum(axis=1) / counts.sum(axis=1).mean())"
   ]
  },
  {
   "cell_type": "markdown",
   "id": "65f0ed24",
   "metadata": {},
   "source": [
    "### Transforming our Tables into Nodes"
   ]
  },
  {
   "cell_type": "code",
   "execution_count": null,
   "id": "2413c0be",
   "metadata": {},
   "outputs": [],
   "source": [
    "import numpy as np\n",
    "from tqdm import trange, tqdm\n",
    "\n",
    "class ChineseRestaurantProcessNode:\n",
    "    def __init__(\n",
    "            self, \n",
    "            data, \n",
    "            table_class: ChineseRestaurantTable, \n",
    "            parent = None, \n",
    "            depth: int = 0,\n",
    "            expected_number_of_classes: int = 1\n",
    "        ):\n",
    "        # Setup data.\n",
    "        self.data = data\n",
    "        self.table_class = table_class\n",
    "        self.table = self.table_class(data)\n",
    "\n",
    "        # Setup tree structure.\n",
    "        self.depth = depth\n",
    "        self.parent = parent\n",
    "        self.children = {}\n",
    "        self.members = set()\n",
    "\n",
    "        # Setup infernce machinery.\n",
    "        self.expected_number_of_classes = expected_number_of_classes\n",
    "        self.alpha = expected_number_of_classes / np.log(self.data.shape[0])\n",
    "\n",
    "    def add_child(self, data):\n",
    "        # Create a new child node with the given data.\n",
    "        child = CRPNode(\n",
    "            data,\n",
    "            depth=self.depth + 1,\n",
    "            parent=self,\n",
    "            table_class=self.table_class,\n",
    "            expected_number_of_classes = self.expected_number_of_classes\n",
    "        )\n",
    "\n",
    "        # Find the next available slot for the child.\n",
    "        i = 0\n",
    "        while i in self.children:\n",
    "            i+=1\n",
    "\n",
    "        # Add the child to the children dictionary.\n",
    "        self.children[i] = child\n",
    "\n",
    "        # Return the newly created child node.\n",
    "        return child\n",
    "\n",
    "    def add_member(self, index):\n",
    "        self.members.add(index)\n",
    "        self.table.add_member(index)\n",
    "\n",
    "    def remove_member(self, index):\n",
    "        self.members.discard(index)\n",
    "        self.table.remove_member(index)\n",
    "    \n",
    "    def has_member(self, index):\n",
    "        return index in self.members\n",
    "    \n",
    "    @staticmethod\n",
    "    def sample_path(node, index, depth=0, max_depth=4):\n",
    "        node.add_member(index)\n",
    "        existing_children = list(node.children.items())\n",
    "        log_posteriors = []\n",
    "\n",
    "        # Score existing children\n",
    "        for child_key, child_node in existing_children:\n",
    "            ll = child_node.table.log_likelihood(index, posterior=True)\n",
    "            prior = np.log1p(len(child_node.members))  # prior favors larger children\n",
    "            log_posteriors.append(ll + prior)\n",
    "\n",
    "        # Score new child\n",
    "        new_child = CRPNode(\n",
    "            node.table.data,\n",
    "            depth = node.depth + 1,\n",
    "            parent = node,\n",
    "            table_class = node.table_class,\n",
    "            expected_number_of_classes = node.expected_number_of_classes\n",
    "        )\n",
    "\n",
    "        # Log likelihood of the new child\n",
    "        ll_new = new_child.table.log_likelihood(index, posterior=True)\n",
    "        prior_new = np.log(node.alpha if hasattr(node, 'alpha') else 1.0)  # Use alpha if set, else 1.0\n",
    "        log_posteriors.append(ll_new + prior_new)\n",
    "\n",
    "        # Normalize and sample\n",
    "        log_posteriors = np.array(log_posteriors)\n",
    "        max_log = np.max(log_posteriors)\n",
    "        probs = np.exp(log_posteriors - max_log)\n",
    "        probs /= probs.sum()\n",
    "\n",
    "        choice = np.random.choice(len(probs), p=probs)\n",
    "\n",
    "        if choice == len(existing_children):\n",
    "            # Create and add new child\n",
    "            new_key = 0\n",
    "            while new_key in node.children:\n",
    "                new_key += 1\n",
    "            node.children[new_key] = new_child\n",
    "            return [new_key]\n",
    "\n",
    "        else:\n",
    "            child_key = existing_children[choice][0]\n",
    "            if depth + 1 < max_depth:\n",
    "                # Recurse down the chosen child node\n",
    "                path = CRPNode.sample_path(\n",
    "                    node.children[child_key],\n",
    "                    index,\n",
    "                    depth = depth + 1,\n",
    "                    max_depth = max_depth\n",
    "                )\n",
    "                return [child_key] + path\n",
    "            else:\n",
    "                # At max depth, add member to this node and return path\n",
    "                node.children[child_key].add_member(index)\n",
    "                return [child_key]\n",
    "\n",
    "    def predict_paths(root, count_matrix, max_depth=4):\n",
    "        \"\"\"\n",
    "        For each row in the count_matrix, traverse the tree from root,\n",
    "        selecting the most likely child at each level, returning the path.\n",
    "\n",
    "        Returns:\n",
    "            paths: list of lists of keys, one per sample.\n",
    "        \"\"\"\n",
    "        paths = []\n",
    "        for index in trange(count_matrix.shape[0]):\n",
    "            node = root\n",
    "            path = []\n",
    "            depth = 0\n",
    "\n",
    "            while depth < max_depth and node.children:\n",
    "                best_key = None\n",
    "                best_score = -np.inf\n",
    "\n",
    "                for key, child in node.children.items():\n",
    "                    ll = child.table.log_likelihood(index, posterior=True)\n",
    "                    prior = np.log1p(len(child.members))  # favor larger clusters\n",
    "                    score = ll + prior\n",
    "                    if score > best_score:\n",
    "                        best_score = score\n",
    "                        best_key = key\n",
    "\n",
    "                if best_key is None:\n",
    "                    break  # no children\n",
    "\n",
    "                path.append(best_key)\n",
    "                node = node.children[best_key]\n",
    "                depth += 1\n",
    "\n",
    "            paths.append(path)\n",
    "\n",
    "        return paths\n"
   ]
  },
  {
   "cell_type": "code",
   "execution_count": 363,
   "id": "26cf002b",
   "metadata": {},
   "outputs": [],
   "source": [
    "X = np.array(counts[::100, adata.var.highly_variable])"
   ]
  },
  {
   "cell_type": "code",
   "execution_count": 367,
   "id": "9234c11b",
   "metadata": {},
   "outputs": [
    {
     "name": "stderr",
     "output_type": "stream",
     "text": [
      "100%|██████████| 1820/1820 [00:08<00:00, 218.49it/s]\n"
     ]
    }
   ],
   "source": [
    "root = CRPNode(X, table_class=NegativeBinomialTable, expected_number_of_classes = 2)\n",
    "for idx in trange(X.shape[0]):\n",
    "    # Optionally remove idx from current assignments if doing iterative inference\n",
    "    path = CRPNode.sample_path(root, idx, max_depth=3)"
   ]
  },
  {
   "cell_type": "code",
   "execution_count": 368,
   "id": "0431280e",
   "metadata": {},
   "outputs": [],
   "source": [
    "labels = root.predict_paths(np.array(counts[1::100, adata.var.highly_variable]))"
   ]
  },
  {
   "cell_type": "code",
   "execution_count": 374,
   "id": "a699973e",
   "metadata": {},
   "outputs": [
    {
     "data": {
      "text/plain": [
       "<Axes: >"
      ]
     },
     "execution_count": 374,
     "metadata": {},
     "output_type": "execute_result"
    },
    {
     "data": {
      "image/png": "[encoded data removed]",
      "text/plain": [
       "<Figure size 640x480 with 2 Axes>"
      ]
     },
     "metadata": {},
     "output_type": "display_data"
    }
   ],
   "source": [
    "import seaborn as sns\n",
    "sns.heatmap(pd.DataFrame(labels).sort_values(by=[0, 1, 2]), cmap='tab20')"
   ]
  },
  {
   "cell_type": "code",
   "execution_count": 360,
   "id": "3cfb4f92",
   "metadata": {},
   "outputs": [],
   "source": [
    "import plotly.graph_objects as go\n",
    "import matplotlib.pyplot as plt\n",
    "import matplotlib.colors as mcolors\n",
    "from collections import defaultdict\n",
    "\n",
    "def build_sankey_data(root):\n",
    "    label_to_index = {}\n",
    "    label_depths = {}\n",
    "    source = []\n",
    "    target = []\n",
    "    value = []\n",
    "    labels = []\n",
    "    counter = [0]\n",
    "\n",
    "    def get_label(node):\n",
    "        label = f\"Depth{node.depth}_Node{id(node)}\"\n",
    "        if label not in label_to_index:\n",
    "            label_to_index[label] = counter[0]\n",
    "            labels.append(label)\n",
    "            label_depths[label] = node.depth\n",
    "            counter[0] += 1\n",
    "        return label\n",
    "\n",
    "    def traverse(node):\n",
    "        parent_label = get_label(node)\n",
    "        for key, child in node.children.items():\n",
    "            child_label = get_label(child)\n",
    "            source.append(label_to_index[parent_label])\n",
    "            target.append(label_to_index[child_label])\n",
    "            value.append(len(child.members))\n",
    "            traverse(child)\n",
    "\n",
    "    traverse(root)\n",
    "    return source, target, value, labels, label_depths\n"
   ]
  },
  {
   "cell_type": "code",
   "execution_count": 361,
   "id": "945bd6ce",
   "metadata": {},
   "outputs": [
    {
     "data": {
      "application/vnd.plotly.v1+json": {
       "config": {
        "plotlyServerURL": "https://plot.ly"
       },
       "data": [
        {
         "link": {
          "source": [
           0,
           1,
           2,
           0,
           4,
           5,
           0,
           7,
           8,
           8,
           0,
           11,
           12,
           11,
           14,
           11,
           16,
           0,
           18,
           19,
           19,
           0,
           22,
           23,
           0,
           25,
           26,
           26,
           25,
           29,
           29,
           25,
           0,
           33,
           34,
           33,
           36,
           36,
           36,
           0,
           40,
           41,
           0,
           43,
           44,
           44,
           0,
           47,
           48,
           47,
           50,
           47,
           52,
           0,
           54,
           55,
           55,
           54,
           0,
           59,
           60,
           59,
           62,
           59,
           0,
           65,
           66,
           66,
           65,
           0,
           70,
           70,
           72,
           0
          ],
          "target": [
           1,
           2,
           3,
           4,
           5,
           6,
           7,
           8,
           9,
           10,
           11,
           12,
           13,
           14,
           15,
           16,
           17,
           18,
           19,
           20,
           21,
           22,
           23,
           24,
           25,
           26,
           27,
           28,
           29,
           30,
           31,
           32,
           33,
           34,
           35,
           36,
           37,
           38,
           39,
           40,
           41,
           42,
           43,
           44,
           45,
           46,
           47,
           48,
           49,
           50,
           51,
           52,
           53,
           54,
           55,
           56,
           57,
           58,
           59,
           60,
           61,
           62,
           63,
           64,
           65,
           66,
           67,
           68,
           69,
           70,
           71,
           72,
           73,
           74
          ],
          "value": [
           467,
           466,
           465,
           246,
           245,
           244,
           151,
           150,
           148,
           0,
           6,
           1,
           0,
           1,
           0,
           1,
           0,
           15,
           14,
           12,
           0,
           76,
           75,
           74,
           205,
           199,
           197,
           0,
           3,
           1,
           0,
           0,
           167,
           20,
           19,
           145,
           142,
           0,
           0,
           79,
           78,
           77,
           76,
           75,
           73,
           0,
           106,
           48,
           47,
           53,
           52,
           2,
           1,
           60,
           58,
           56,
           0,
           0,
           13,
           1,
           0,
           9,
           8,
           0,
           76,
           74,
           72,
           0,
           0,
           61,
           0,
           59,
           58,
           0
          ]
         },
         "node": {
          "color": [
           "#1f77b4",
           "#aec7e8",
           "#ff7f0e",
           "#ffbb78",
           "#aec7e8",
           "#ff7f0e",
           "#ffbb78",
           "#aec7e8",
           "#ff7f0e",
           "#ffbb78",
           "#ffbb78",
           "#aec7e8",
           "#ff7f0e",
           "#ffbb78",
           "#ff7f0e",
           "#ffbb78",
           "#ff7f0e",
           "#ffbb78",
           "#aec7e8",
           "#ff7f0e",
           "#ffbb78",
           "#ffbb78",
           "#aec7e8",
           "#ff7f0e",
           "#ffbb78",
           "#aec7e8",
           "#ff7f0e",
           "#ffbb78",
           "#ffbb78",
           "#ff7f0e",
           "#ffbb78",
           "#ffbb78",
           "#ff7f0e",
           "#aec7e8",
           "#ff7f0e",
           "#ffbb78",
           "#ff7f0e",
           "#ffbb78",
           "#ffbb78",
           "#ffbb78",
           "#aec7e8",
           "#ff7f0e",
           "#ffbb78",
           "#aec7e8",
           "#ff7f0e",
           "#ffbb78",
           "#ffbb78",
           "#aec7e8",
           "#ff7f0e",
           "#ffbb78",
           "#ff7f0e",
           "#ffbb78",
           "#ff7f0e",
           "#ffbb78",
           "#aec7e8",
           "#ff7f0e",
           "#ffbb78",
           "#ffbb78",
           "#ff7f0e",
           "#aec7e8",
           "#ff7f0e",
           "#ffbb78",
           "#ff7f0e",
           "#ffbb78",
           "#ff7f0e",
           "#aec7e8",
           "#ff7f0e",
           "#ffbb78",
           "#ffbb78",
           "#ff7f0e",
           "#aec7e8",
           "#ff7f0e",
           "#ff7f0e",
           "#ffbb78",
           "#aec7e8"
          ],
          "label": [
           "Depth0_Node125483869419664",
           "Depth1_Node125483869420784",
           "Depth2_Node125483869420464",
           "Depth3_Node125483869421104",
           "Depth1_Node125483869420624",
           "Depth2_Node125483869420944",
           "Depth3_Node125483869602192",
           "Depth1_Node125483869421424",
           "Depth2_Node125483869602512",
           "Depth3_Node125483869602032",
           "Depth3_Node125483869603152",
           "Depth1_Node125483869603792",
           "Depth2_Node125483869603952",
           "Depth3_Node125483869604432",
           "Depth2_Node125483869605072",
           "Depth3_Node125483869607952",
           "Depth2_Node125483869607792",
           "Depth3_Node125483869749328",
           "Depth1_Node125483869603312",
           "Depth2_Node125483869602992",
           "Depth3_Node125483869612272",
           "Depth3_Node125483869614032",
           "Depth1_Node125483869604272",
           "Depth2_Node125483869604912",
           "Depth3_Node125483869605392",
           "Depth1_Node125483869420304",
           "Depth2_Node125483869605232",
           "Depth3_Node125483869606672",
           "Depth3_Node125483869611792",
           "Depth2_Node125483869606192",
           "Depth3_Node125483869606352",
           "Depth3_Node125483869606992",
           "Depth2_Node125483869605712",
           "Depth1_Node125483869606032",
           "Depth2_Node125483869607312",
           "Depth3_Node125483869611312",
           "Depth2_Node125483869604752",
           "Depth3_Node125483869608112",
           "Depth3_Node125483869608432",
           "Depth3_Node125483869610992",
           "Depth1_Node125483869607472",
           "Depth2_Node125483869611952",
           "Depth3_Node125483869612432",
           "Depth1_Node125483869608592",
           "Depth2_Node125483869608752",
           "Depth3_Node125483869610352",
           "Depth3_Node125483869611152",
           "Depth1_Node125483869607632",
           "Depth2_Node125483869609712",
           "Depth3_Node125483869609872",
           "Depth2_Node125483869609552",
           "Depth3_Node125483869612912",
           "Depth2_Node125483869610192",
           "Depth3_Node125483869609392",
           "Depth1_Node125483869611632",
           "Depth2_Node125483869613552",
           "Depth3_Node125483869613392",
           "Depth3_Node125483869613872",
           "Depth2_Node125483869614672",
           "Depth1_Node125483869614192",
           "Depth2_Node125483869616752",
           "Depth3_Node125483869617072",
           "Depth2_Node125483869617392",
           "Depth3_Node125483869617712",
           "Depth2_Node125483869617552",
           "Depth1_Node125483869613712",
           "Depth2_Node125483869614832",
           "Depth3_Node125483869615152",
           "Depth3_Node125483869614992",
           "Depth2_Node125483869615472",
           "Depth1_Node125483869614352",
           "Depth2_Node125483869615952",
           "Depth2_Node125483869616272",
           "Depth3_Node125483869616432",
           "Depth1_Node125483869615792"
          ],
          "line": {
           "color": "black",
           "width": 0.5
          },
          "pad": 15,
          "thickness": 20
         },
         "type": "sankey"
        }
       ],
       "layout": {
        "font": {
         "size": 10
        },
        "height": 4000,
        "template": {
         "data": {
          "bar": [
           {
            "error_x": {
             "color": "#2a3f5f"
            },
            "error_y": {
             "color": "#2a3f5f"
            },
            "marker": {
             "line": {
              "color": "#E5ECF6",
              "width": 0.5
             },
             "pattern": {
              "fillmode": "overlay",
              "size": 10,
              "solidity": 0.2
             }
            },
            "type": "bar"
           }
          ],
          "barpolar": [
           {
            "marker": {
             "line": {
              "color": "#E5ECF6",
              "width": 0.5
             },
             "pattern": {
              "fillmode": "overlay",
              "size": 10,
              "solidity": 0.2
             }
            },
            "type": "barpolar"
           }
          ],
          "carpet": [
           {
            "aaxis": {
             "endlinecolor": "#2a3f5f",
             "gridcolor": "white",
             "linecolor": "white",
             "minorgridcolor": "white",
             "startlinecolor": "#2a3f5f"
            },
            "baxis": {
             "endlinecolor": "#2a3f5f",
             "gridcolor": "white",
             "linecolor": "white",
             "minorgridcolor": "white",
             "startlinecolor": "#2a3f5f"
            },
            "type": "carpet"
           }
          ],
          "choropleth": [
           {
            "colorbar": {
             "outlinewidth": 0,
             "ticks": ""
            },
            "type": "choropleth"
           }
          ],
          "contour": [
           {
            "colorbar": {
             "outlinewidth": 0,
             "ticks": ""
            },
            "colorscale": [
             [
              0,
              "#0d0887"
             ],
             [
              0.1111111111111111,
              "#46039f"
             ],
             [
              0.2222222222222222,
              "#7201a8"
             ],
             [
              0.3333333333333333,
              "#9c179e"
             ],
             [
              0.4444444444444444,
              "#bd3786"
             ],
             [
              0.5555555555555556,
              "#d8576b"
             ],
             [
              0.6666666666666666,
              "#ed7953"
             ],
             [
              0.7777777777777778,
              "#fb9f3a"
             ],
             [
              0.8888888888888888,
              "#fdca26"
             ],
             [
              1,
              "#f0f921"
             ]
            ],
            "type": "contour"
           }
          ],
          "contourcarpet": [
           {
            "colorbar": {
             "outlinewidth": 0,
             "ticks": ""
            },
            "type": "contourcarpet"
           }
          ],
          "heatmap": [
           {
            "colorbar": {
             "outlinewidth": 0,
             "ticks": ""
            },
            "colorscale": [
             [
              0,
              "#0d0887"
             ],
             [
              0.1111111111111111,
              "#46039f"
             ],
             [
              0.2222222222222222,
              "#7201a8"
             ],
             [
              0.3333333333333333,
              "#9c179e"
             ],
             [
              0.4444444444444444,
              "#bd3786"
             ],
             [
              0.5555555555555556,
              "#d8576b"
             ],
             [
              0.6666666666666666,
              "#ed7953"
             ],
             [
              0.7777777777777778,
              "#fb9f3a"
             ],
             [
              0.8888888888888888,
              "#fdca26"
             ],
             [
              1,
              "#f0f921"
             ]
            ],
            "type": "heatmap"
           }
          ],
          "histogram": [
           {
            "marker": {
             "pattern": {
              "fillmode": "overlay",
              "size": 10,
              "solidity": 0.2
             }
            },
            "type": "histogram"
           }
          ],
          "histogram2d": [
           {
            "colorbar": {
             "outlinewidth": 0,
             "ticks": ""
            },
            "colorscale": [
             [
              0,
              "#0d0887"
             ],
             [
              0.1111111111111111,
              "#46039f"
             ],
             [
              0.2222222222222222,
              "#7201a8"
             ],
             [
              0.3333333333333333,
              "#9c179e"
             ],
             [
              0.4444444444444444,
              "#bd3786"
             ],
             [
              0.5555555555555556,
              "#d8576b"
             ],
             [
              0.6666666666666666,
              "#ed7953"
             ],
             [
              0.7777777777777778,
              "#fb9f3a"
             ],
             [
              0.8888888888888888,
              "#fdca26"
             ],
             [
              1,
              "#f0f921"
             ]
            ],
            "type": "histogram2d"
           }
          ],
          "histogram2dcontour": [
           {
            "colorbar": {
             "outlinewidth": 0,
             "ticks": ""
            },
            "colorscale": [
             [
              0,
              "#0d0887"
             ],
             [
              0.1111111111111111,
              "#46039f"
             ],
             [
              0.2222222222222222,
              "#7201a8"
             ],
             [
              0.3333333333333333,
              "#9c179e"
             ],
             [
              0.4444444444444444,
              "#bd3786"
             ],
             [
              0.5555555555555556,
              "#d8576b"
             ],
             [
              0.6666666666666666,
              "#ed7953"
             ],
             [
              0.7777777777777778,
              "#fb9f3a"
             ],
             [
              0.8888888888888888,
              "#fdca26"
             ],
             [
              1,
              "#f0f921"
             ]
            ],
            "type": "histogram2dcontour"
           }
          ],
          "mesh3d": [
           {
            "colorbar": {
             "outlinewidth": 0,
             "ticks": ""
            },
            "type": "mesh3d"
           }
          ],
          "parcoords": [
           {
            "line": {
             "colorbar": {
              "outlinewidth": 0,
              "ticks": ""
             }
            },
            "type": "parcoords"
           }
          ],
          "pie": [
           {
            "automargin": true,
            "type": "pie"
           }
          ],
          "scatter": [
           {
            "fillpattern": {
             "fillmode": "overlay",
             "size": 10,
             "solidity": 0.2
            },
            "type": "scatter"
           }
          ],
          "scatter3d": [
           {
            "line": {
             "colorbar": {
              "outlinewidth": 0,
              "ticks": ""
             }
            },
            "marker": {
             "colorbar": {
              "outlinewidth": 0,
              "ticks": ""
             }
            },
            "type": "scatter3d"
           }
          ],
          "scattercarpet": [
           {
            "marker": {
             "colorbar": {
              "outlinewidth": 0,
              "ticks": ""
             }
            },
            "type": "scattercarpet"
           }
          ],
          "scattergeo": [
           {
            "marker": {
             "colorbar": {
              "outlinewidth": 0,
              "ticks": ""
             }
            },
            "type": "scattergeo"
           }
          ],
          "scattergl": [
           {
            "marker": {
             "colorbar": {
              "outlinewidth": 0,
              "ticks": ""
             }
            },
            "type": "scattergl"
           }
          ],
          "scattermap": [
           {
            "marker": {
             "colorbar": {
              "outlinewidth": 0,
              "ticks": ""
             }
            },
            "type": "scattermap"
           }
          ],
          "scattermapbox": [
           {
            "marker": {
             "colorbar": {
              "outlinewidth": 0,
              "ticks": ""
             }
            },
            "type": "scattermapbox"
           }
          ],
          "scatterpolar": [
           {
            "marker": {
             "colorbar": {
              "outlinewidth": 0,
              "ticks": ""
             }
            },
            "type": "scatterpolar"
           }
          ],
          "scatterpolargl": [
           {
            "marker": {
             "colorbar": {
              "outlinewidth": 0,
              "ticks": ""
             }
            },
            "type": "scatterpolargl"
           }
          ],
          "scatterternary": [
           {
            "marker": {
             "colorbar": {
              "outlinewidth": 0,
              "ticks": ""
             }
            },
            "type": "scatterternary"
           }
          ],
          "surface": [
           {
            "colorbar": {
             "outlinewidth": 0,
             "ticks": ""
            },
            "colorscale": [
             [
              0,
              "#0d0887"
             ],
             [
              0.1111111111111111,
              "#46039f"
             ],
             [
              0.2222222222222222,
              "#7201a8"
             ],
             [
              0.3333333333333333,
              "#9c179e"
             ],
             [
              0.4444444444444444,
              "#bd3786"
             ],
             [
              0.5555555555555556,
              "#d8576b"
             ],
             [
              0.6666666666666666,
              "#ed7953"
             ],
             [
              0.7777777777777778,
              "#fb9f3a"
             ],
             [
              0.8888888888888888,
              "#fdca26"
             ],
             [
              1,
              "#f0f921"
             ]
            ],
            "type": "surface"
           }
          ],
          "table": [
           {
            "cells": {
             "fill": {
              "color": "#EBF0F8"
             },
             "line": {
              "color": "white"
             }
            },
            "header": {
             "fill": {
              "color": "#C8D4E3"
             },
             "line": {
              "color": "white"
             }
            },
            "type": "table"
           }
          ]
         },
         "layout": {
          "annotationdefaults": {
           "arrowcolor": "#2a3f5f",
           "arrowhead": 0,
           "arrowwidth": 1
          },
          "autotypenumbers": "strict",
          "coloraxis": {
           "colorbar": {
            "outlinewidth": 0,
            "ticks": ""
           }
          },
          "colorscale": {
           "diverging": [
            [
             0,
             "#8e0152"
            ],
            [
             0.1,
             "#c51b7d"
            ],
            [
             0.2,
             "#de77ae"
            ],
            [
             0.3,
             "#f1b6da"
            ],
            [
             0.4,
             "#fde0ef"
            ],
            [
             0.5,
             "#f7f7f7"
            ],
            [
             0.6,
             "#e6f5d0"
            ],
            [
             0.7,
             "#b8e186"
            ],
            [
             0.8,
             "#7fbc41"
            ],
            [
             0.9,
             "#4d9221"
            ],
            [
             1,
             "#276419"
            ]
           ],
           "sequential": [
            [
             0,
             "#0d0887"
            ],
            [
             0.1111111111111111,
             "#46039f"
            ],
            [
             0.2222222222222222,
             "#7201a8"
            ],
            [
             0.3333333333333333,
             "#9c179e"
            ],
            [
             0.4444444444444444,
             "#bd3786"
            ],
            [
             0.5555555555555556,
             "#d8576b"
            ],
            [
             0.6666666666666666,
             "#ed7953"
            ],
            [
             0.7777777777777778,
             "#fb9f3a"
            ],
            [
             0.8888888888888888,
             "#fdca26"
            ],
            [
             1,
             "#f0f921"
            ]
           ],
           "sequentialminus": [
            [
             0,
             "#0d0887"
            ],
            [
             0.1111111111111111,
             "#46039f"
            ],
            [
             0.2222222222222222,
             "#7201a8"
            ],
            [
             0.3333333333333333,
             "#9c179e"
            ],
            [
             0.4444444444444444,
             "#bd3786"
            ],
            [
             0.5555555555555556,
             "#d8576b"
            ],
            [
             0.6666666666666666,
             "#ed7953"
            ],
            [
             0.7777777777777778,
             "#fb9f3a"
            ],
            [
             0.8888888888888888,
             "#fdca26"
            ],
            [
             1,
             "#f0f921"
            ]
           ]
          },
          "colorway": [
           "#636efa",
           "#EF553B",
           "#00cc96",
           "#ab63fa",
           "#FFA15A",
           "#19d3f3",
           "#FF6692",
           "#B6E880",
           "#FF97FF",
           "#FECB52"
          ],
          "font": {
           "color": "#2a3f5f"
          },
          "geo": {
           "bgcolor": "white",
           "lakecolor": "white",
           "landcolor": "#E5ECF6",
           "showlakes": true,
           "showland": true,
           "subunitcolor": "white"
          },
          "hoverlabel": {
           "align": "left"
          },
          "hovermode": "closest",
          "mapbox": {
           "style": "light"
          },
          "paper_bgcolor": "white",
          "plot_bgcolor": "#E5ECF6",
          "polar": {
           "angularaxis": {
            "gridcolor": "white",
            "linecolor": "white",
            "ticks": ""
           },
           "bgcolor": "#E5ECF6",
           "radialaxis": {
            "gridcolor": "white",
            "linecolor": "white",
            "ticks": ""
           }
          },
          "scene": {
           "xaxis": {
            "backgroundcolor": "#E5ECF6",
            "gridcolor": "white",
            "gridwidth": 2,
            "linecolor": "white",
            "showbackground": true,
            "ticks": "",
            "zerolinecolor": "white"
           },
           "yaxis": {
            "backgroundcolor": "#E5ECF6",
            "gridcolor": "white",
            "gridwidth": 2,
            "linecolor": "white",
            "showbackground": true,
            "ticks": "",
            "zerolinecolor": "white"
           },
           "zaxis": {
            "backgroundcolor": "#E5ECF6",
            "gridcolor": "white",
            "gridwidth": 2,
            "linecolor": "white",
            "showbackground": true,
            "ticks": "",
            "zerolinecolor": "white"
           }
          },
          "shapedefaults": {
           "line": {
            "color": "#2a3f5f"
           }
          },
          "ternary": {
           "aaxis": {
            "gridcolor": "white",
            "linecolor": "white",
            "ticks": ""
           },
           "baxis": {
            "gridcolor": "white",
            "linecolor": "white",
            "ticks": ""
           },
           "bgcolor": "#E5ECF6",
           "caxis": {
            "gridcolor": "white",
            "linecolor": "white",
            "ticks": ""
           }
          },
          "title": {
           "x": 0.05
          },
          "xaxis": {
           "automargin": true,
           "gridcolor": "white",
           "linecolor": "white",
           "ticks": "",
           "title": {
            "standoff": 15
           },
           "zerolinecolor": "white",
           "zerolinewidth": 2
          },
          "yaxis": {
           "automargin": true,
           "gridcolor": "white",
           "linecolor": "white",
           "ticks": "",
           "title": {
            "standoff": 15
           },
           "zerolinecolor": "white",
           "zerolinewidth": 2
          }
         }
        },
        "title": {
         "text": "nCRP Sample Flow Sankey Diagram"
        }
       }
      }
     },
     "metadata": {},
     "output_type": "display_data"
    }
   ],
   "source": [
    "def plot_sankey(source, target, value, labels, label_depths, height=600):\n",
    "    # Use a colormap (e.g., tab20) to assign colors by depth\n",
    "    unique_depths = sorted(set(label_depths.values()))\n",
    "    cmap = plt.get_cmap('tab20')\n",
    "    depth_colors = {d: mcolors.to_hex(cmap(i % 20)) for i, d in enumerate(unique_depths)}\n",
    "    \n",
    "    node_colors = [depth_colors[label_depths[label]] for label in labels]\n",
    "\n",
    "    fig = go.Figure(data=[go.Sankey(\n",
    "        node=dict(\n",
    "            pad=15,\n",
    "            thickness=20,\n",
    "            line=dict(color=\"black\", width=0.5),\n",
    "            label=labels,\n",
    "            color=node_colors\n",
    "        ),\n",
    "        link=dict(\n",
    "            source=source,\n",
    "            target=target,\n",
    "            value=value\n",
    "        ))])\n",
    "\n",
    "    fig.update_layout(\n",
    "        title_text=\"nCRP Sample Flow Sankey Diagram\",\n",
    "        font_size=10,\n",
    "        height=height\n",
    "    )\n",
    "    fig.show()\n",
    "\n",
    "\n",
    "plot_sankey(*build_sankey_data(root), height=4000)"
   ]
  },
  {
   "cell_type": "code",
   "execution_count": 377,
   "id": "702fcfd8",
   "metadata": {},
   "outputs": [],
   "source": [
    "subset = adata[::100]"
   ]
  },
  {
   "cell_type": "code",
   "execution_count": 383,
   "id": "77c1c22c",
   "metadata": {},
   "outputs": [],
   "source": [
    "for i in range(2):\n",
    "    subset.obs[f\"ncrp_level_{i}\"] = [x[i] for x in labels]"
   ]
  },
  {
   "cell_type": "code",
   "execution_count": null,
   "id": "d7d02f68",
   "metadata": {},
   "outputs": [
    {
     "name": "stderr",
     "output_type": "stream",
     "text": [
      "/tmp/ipykernel_261105/325421919.py:1: FutureWarning:\n",
      "\n",
      "Use sc.pp.normalize_total instead\n",
      "\n",
      "/home/jhaberbe/Projects/Personal/chinese_restaurant_process/.venv/lib/python3.13/site-packages/scanpy/preprocessing/_simple.py:591: FutureWarning:\n",
      "\n",
      "Use sc.pp.normalize_total instead\n",
      "\n"
     ]
    },
    {
     "ename": "TypeError",
     "evalue": "umap() takes 1 positional argument but 2 were given",
     "output_type": "error",
     "traceback": [
      "\u001b[31m---------------------------------------------------------------------------\u001b[39m",
      "\u001b[31mTypeError\u001b[39m                                 Traceback (most recent call last)",
      "\u001b[36mCell\u001b[39m\u001b[36m \u001b[39m\u001b[32mIn[386]\u001b[39m\u001b[32m, line 6\u001b[39m\n\u001b[32m      4\u001b[39m sc.pp.neighbors(subset)\n\u001b[32m      5\u001b[39m sc.tl.umap(subset)\n\u001b[32m----> \u001b[39m\u001b[32m6\u001b[39m \u001b[43msc\u001b[49m\u001b[43m.\u001b[49m\u001b[43mpl\u001b[49m\u001b[43m.\u001b[49m\u001b[43mumap\u001b[49m\u001b[43m(\u001b[49m\u001b[43msubset\u001b[49m\u001b[43m,\u001b[49m\u001b[43m \u001b[49m\u001b[43m[\u001b[49m\u001b[33;43m\"\u001b[39;49m\u001b[33;43mncrp_level_0\u001b[39;49m\u001b[33;43m\"\u001b[39;49m\u001b[43m]\u001b[49m\u001b[43m)\u001b[49m\n",
      "\u001b[31mTypeError\u001b[39m: umap() takes 1 positional argument but 2 were given"
     ]
    }
   ],
   "source": [
    "sc.pp.normalize_total(subset)\n",
    "sc.pp.log1p(subset)\n",
    "sc.pp.pca(subset)\n",
    "sc.pp.neighbors(subset)\n",
    "sc.tl.umap(subset)"
   ]
  },
  {
   "cell_type": "code",
   "execution_count": 388,
   "id": "faab40f0",
   "metadata": {},
   "outputs": [
    {
     "data": {
      "image/png": "[encoded data removed]",
      "text/plain": [
       "<Figure size 640x480 with 2 Axes>"
      ]
     },
     "metadata": {},
     "output_type": "display_data"
    }
   ],
   "source": [
    "\n",
    "sc.pl.umap(subset, color=[\"ncrp_level_0\"], cmap=\"tab20\")"
   ]
  },
  {
   "cell_type": "code",
   "execution_count": null,
   "id": "72f9f289",
   "metadata": {},
   "outputs": [],
   "source": []
  }
 ],
 "metadata": {
  "kernelspec": {
   "display_name": ".venv",
   "language": "python",
   "name": "python3"
  },
  "language_info": {
   "codemirror_mode": {
    "name": "ipython",
    "version": 3
   },
   "file_extension": ".py",
   "mimetype": "text/x-python",
   "name": "python",
   "nbconvert_exporter": "python",
   "pygments_lexer": "ipython3",
   "version": "3.13.3"
  }
 },
 "nbformat": 4,
 "nbformat_minor": 5
}
