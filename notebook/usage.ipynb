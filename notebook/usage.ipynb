{
 "cells": [
  {
   "cell_type": "markdown",
   "id": "8a510ebf",
   "metadata": {},
   "source": [
    "# Usage\n",
    "\n",
    "Tried to make this fairly simple to implement."
   ]
  },
  {
   "cell_type": "code",
   "execution_count": 9,
   "id": "5739022d",
   "metadata": {},
   "outputs": [
    {
     "name": "stdout",
     "output_type": "stream",
     "text": [
      "Collecting git+https://github.com/jhaberbe/crp\n",
      "  Cloning https://github.com/jhaberbe/crp to /private/var/folders/2n/j06nrn2n7r524t776sngh0xr0000gr/T/pip-req-build-i822sqmd\n",
      "  Running command git clone --filter=blob:none --quiet https://github.com/jhaberbe/crp /private/var/folders/2n/j06nrn2n7r524t776sngh0xr0000gr/T/pip-req-build-i822sqmd\n",
      "  Resolved https://github.com/jhaberbe/crp to commit eef2c6e5daf2c653941aa398b43d637f2d6f855d\n",
      "  Installing build dependencies ... \u001b[?25ldone\n",
      "\u001b[?25h  Getting requirements to build wheel ... \u001b[?25ldone\n",
      "\u001b[?25h  Preparing metadata (pyproject.toml) ... \u001b[?25ldone\n",
      "\u001b[?25hCollecting igraph>=0.11.9 (from chinese-restaurant-process==0.1.0)\n",
      "  Downloading igraph-0.11.9-cp39-abi3-macosx_11_0_arm64.whl.metadata (4.4 kB)\n",
      "Collecting ipykernel>=6.29.5 (from chinese-restaurant-process==0.1.0)\n",
      "  Using cached ipykernel-6.29.5-py3-none-any.whl.metadata (6.3 kB)\n",
      "Collecting jax>=0.6.1 (from chinese-restaurant-process==0.1.0)\n",
      "  Downloading jax-0.6.1-py3-none-any.whl.metadata (13 kB)\n",
      "Collecting jaxlib>=0.6.1 (from chinese-restaurant-process==0.1.0)\n",
      "  Downloading jaxlib-0.6.1-cp311-cp311-macosx_11_0_arm64.whl.metadata (1.2 kB)\n",
      "Collecting leidenalg>=0.10.2 (from chinese-restaurant-process==0.1.0)\n",
      "  Using cached leidenalg-0.10.2-cp38-abi3-macosx_11_0_arm64.whl.metadata (10 kB)\n",
      "Collecting matplotlib>=3.10.3 (from chinese-restaurant-process==0.1.0)\n",
      "  Downloading matplotlib-3.10.3-cp311-cp311-macosx_11_0_arm64.whl.metadata (11 kB)\n",
      "Requirement already satisfied: pyro-ppl>=1.9.1 in /opt/homebrew/lib/python3.11/site-packages (from chinese-restaurant-process==0.1.0) (1.9.1)\n",
      "Collecting scanpy>=1.11.2 (from chinese-restaurant-process==0.1.0)\n",
      "  Downloading scanpy-1.11.2-py3-none-any.whl.metadata (9.1 kB)\n",
      "Collecting torch>=2.7.1 (from chinese-restaurant-process==0.1.0)\n",
      "  Downloading torch-2.7.1-cp311-none-macosx_11_0_arm64.whl.metadata (29 kB)\n",
      "INFO: pip is looking at multiple versions of chinese-restaurant-process to determine which version is compatible with other requirements. This could take a while.\n",
      "\n",
      "\u001b[1m[\u001b[0m\u001b[34;49mnotice\u001b[0m\u001b[1;39;49m]\u001b[0m\u001b[39;49m A new release of pip is available: \u001b[0m\u001b[31;49m24.2\u001b[0m\u001b[39;49m -> \u001b[0m\u001b[32;49m25.1.1\u001b[0m\n",
      "\u001b[1m[\u001b[0m\u001b[34;49mnotice\u001b[0m\u001b[1;39;49m]\u001b[0m\u001b[39;49m To update, run: \u001b[0m\u001b[32;49mpython3.11 -m pip install --upgrade pip\u001b[0m\n",
      "\u001b[31mERROR: Package 'chinese-restaurant-process' requires a different Python: 3.11.10 not in '>=3.12'\u001b[0m\u001b[31m\n",
      "\u001b[0m"
     ]
    }
   ],
   "source": [
    "!pip install git+https://github.com/jhaberbe/crp"
   ]
  },
  {
   "cell_type": "code",
   "execution_count": null,
   "id": "5c31ee68",
   "metadata": {},
   "outputs": [],
   "source": [
    "from cpr.dirichlet import ChineseRestaurantProcess"
   ]
  },
  {
   "cell_type": "code",
   "execution_count": 2,
   "id": "664a6663",
   "metadata": {},
   "outputs": [],
   "source": [
    "import scanpy as sc\n",
    "adata = sc.read_h5ad(\"/Users/jameshaberberger/GitHub/chinese-restaurant-process/data/adata.h5ad\")\n",
    "adata = adata[adata.X.sum(axis=1) > 100]"
   ]
  },
  {
   "cell_type": "code",
   "execution_count": 7,
   "id": "a1679717",
   "metadata": {},
   "outputs": [
    {
     "name": "stderr",
     "output_type": "stream",
     "text": [
      "100%|██████████| 1232/1232 [00:01<00:00, 663.46it/s]\n",
      "100%|██████████| 1232/1232 [00:02<00:00, 443.81it/s]\n",
      "100%|██████████| 1232/1232 [00:02<00:00, 431.39it/s]\n",
      "100%|██████████| 1232/1232 [00:02<00:00, 441.72it/s]\n",
      "100%|██████████| 1232/1232 [00:02<00:00, 444.05it/s]\n",
      "100%|██████████| 1232/1232 [00:02<00:00, 437.67it/s]\n",
      "100%|██████████| 1232/1232 [00:02<00:00, 435.15it/s]\n",
      "100%|██████████| 1232/1232 [00:02<00:00, 437.33it/s]\n",
      "100%|██████████| 1232/1232 [00:02<00:00, 428.97it/s]\n",
      "100%|██████████| 1232/1232 [00:02<00:00, 447.48it/s]\n"
     ]
    }
   ],
   "source": [
    "crp = ChineseRestaurantProcess(adata[::100].X.todense())\n",
    "crp.run(epochs=10)"
   ]
  },
  {
   "cell_type": "code",
   "execution_count": 8,
   "id": "d2c7e48e",
   "metadata": {},
   "outputs": [
    {
     "name": "stderr",
     "output_type": "stream",
     "text": [
      "100%|██████████| 123130/123130 [00:56<00:00, 2184.93it/s]\n",
      "/var/folders/2n/j06nrn2n7r524t776sngh0xr0000gr/T/ipykernel_49390/558921049.py:4: ImplicitModificationWarning: Trying to modify attribute `.obs` of view, initializing view as actual.\n",
      "  adata.obs[\"labels\"] = crp.predict(adata.X.todense(), min_membership=0.01)\n"
     ]
    }
   ],
   "source": [
    "# Predict labels for the full dataset\n",
    "# You can adjust the `min_membership` parameter to control the minimum membership threshold for assigning labels.\n",
    "# 1% works well for me. 0% is true CRP, but expect small clusters, which may or may not be representative of reality.\n",
    "adata.obs[\"labels\"] = crp.predict(adata.X.todense(), min_membership=0.01)"
   ]
  },
  {
   "cell_type": "code",
   "execution_count": null,
   "id": "2337fab5",
   "metadata": {},
   "outputs": [],
   "source": []
  }
 ],
 "metadata": {
  "kernelspec": {
   "display_name": ".venv",
   "language": "python",
   "name": "python3"
  },
  "language_info": {
   "codemirror_mode": {
    "name": "ipython",
    "version": 3
   },
   "file_extension": ".py",
   "mimetype": "text/x-python",
   "name": "python",
   "nbconvert_exporter": "python",
   "pygments_lexer": "ipython3",
   "version": "3.12.7"
  }
 },
 "nbformat": 4,
 "nbformat_minor": 5
}
