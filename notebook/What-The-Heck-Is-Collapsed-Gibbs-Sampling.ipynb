{
 "cells": [
  {
   "cell_type": "markdown",
   "id": "964bc9fb",
   "metadata": {},
   "source": [
    "# What the heck is a collapsed gibbs sampler?\n",
    "\n",
    "In a chinese restaurant process, the basic structure of it is:\n",
    "1. Get a new table\n",
    "2. Given the new table and all the previous tables, we try to see which table our new sample is most likely to join.\n",
    "    - This involves computing the posterior, or the distribution given our sample joins the table, ahead of time, and then computing the likelihood of the sample in that distribution given the parameterization. \n",
    "    - We compute likelihoods for all the tables, and then compute the sigmoid across all of these, which gives us the probability of joining each table. We then randomly sample a table on that basis!\n",
    "3.  Wash rinse repeat.\n",
    "\n",
    "However, refitting the parameters like we usually do ('scipy.optimize') is _really_ slow. Instead, via the majick of conjugacy, we get to do it almost for free. \n",
    "\n",
    "Its easier to see in code. Below we'll make two normal distributions, means of -2 and 2, both with a std of 1."
   ]
  },
  {
   "cell_type": "code",
   "execution_count": 3,
   "id": "d9f74963",
   "metadata": {},
   "outputs": [
    {
     "data": {
      "text/plain": [
       "(array([ 1.,  6., 14., 19., 12., 12., 19.,  5.,  7.,  5.]),\n",
       " array([-0.22340315,  0.23725164,  0.69790643,  1.15856123,  1.61921602,\n",
       "         2.07987081,  2.5405256 ,  3.0011804 ,  3.46183519,  3.92248998,\n",
       "         4.38314477]),\n",
       " <BarContainer object of 10 artists>)"
      ]
     },
     "execution_count": 3,
     "metadata": {},
     "output_type": "execute_result"
    },
    {
     "data": {
      "image/png": "[encoded data removed]",
      "text/plain": [
       "<Figure size 640x480 with 1 Axes>"
      ]
     },
     "metadata": {},
     "output_type": "display_data"
    }
   ],
   "source": [
    "import numpy as np\n",
    "import matplotlib.pyplot as plt\n",
    "\n",
    "# Generate some synthetic 1D data\n",
    "np.random.seed(0)\n",
    "X = np.concatenate([\n",
    "    np.random.normal(-2, 1, size=100),\n",
    "    np.random.normal(2, 1, size=100)\n",
    "])\n",
    "\n",
    "# Showing that we created two univariate distributions.\n",
    "plt.hist(X[:100])\n",
    "plt.hist(X[100:])"
   ]
  },
  {
   "cell_type": "markdown",
   "id": "a7412647",
   "metadata": {},
   "source": [
    "# Log Predictive\n",
    "\n",
    "The basic structure here is we want a system that updates a distribution. We want it to be flexible enough that we can work with a single new sample in a useful way, but also that updates our parameterization in proportion to how many samples there are. To do this, we supply a global, uninformative prior distribution (mean of zero, variance of std^2 = 1^2 = 1), we have some number of items that are already part of the table (in the case of a new table, this would be an empty array), and we have a new item.\n",
    "\n",
    "Our probability uses our new data point ($x_{new}$), data points in cluster k currently ($x_{k}$), our prior mean ($mu_0$ = 0), our prior variance ($tau^2$ = 1), and the empirical variance ($\\sigma^2$, which defaults to our prior).\n",
    "\n",
    "We don't need to go into the calculation to see how the method works. Just know that this will compute the log-likelihood of a normal distribution."
   ]
  },
  {
   "cell_type": "code",
   "execution_count": 17,
   "id": "6da4011a",
   "metadata": {},
   "outputs": [],
   "source": [
    "def log_predictive(x_new, x_k, mu0=0, tau2=1, sigma2=None):\n",
    "    \"\"\"Log predictive probability of x_new given data in cluster k\"\"\"\n",
    "    n = len(x_k)\n",
    "    \n",
    "    if n == 0:\n",
    "        var = sigma2 + tau2 if sigma2 is not None else 1 + tau2  # fallback if sigma2 not provided\n",
    "        return -0.5 * np.log(2 * np.pi * var) - 0.5 * x_new**2 / var\n",
    "    else:\n",
    "        x_bar = np.mean(x_k)\n",
    "        \n",
    "        # Compute empirical variance if sigma2 not given\n",
    "        if sigma2 is None:\n",
    "            if n > 1:\n",
    "                sigma2_emp = np.var(x_k, ddof=1)  # unbiased sample variance\n",
    "            else:\n",
    "                sigma2_emp = 1  # fallback for single data point\n",
    "        else:\n",
    "            sigma2_emp = sigma2\n",
    "\n",
    "        var = sigma2_emp * (1 + 1 / (n + sigma2_emp / tau2))\n",
    "        mean = (n * x_bar + (sigma2_emp / tau2) * mu0) / (n + sigma2_emp / tau2)\n",
    "        \n",
    "        return -0.5 * np.log(2 * np.pi * var) - 0.5 * (x_new - mean)**2 / var\n"
   ]
  },
  {
   "cell_type": "markdown",
   "id": "613d8978",
   "metadata": {},
   "source": [
    "# Collapsed Gibbs Sampler\n",
    "\n",
    "This shows the actual logic for sampling. We have cluster assignments, and a dictionary of clusters. We go through each cluster and get the log probability associated with each of the clusters. For a new cluster, we have a parameter alpha that controls the rate at which we construct new tables (higher values favor more tables). For currently existing tables, the number of people at the table determines how likely elements are to join that new table, which encourages clustering. After calculating all the log-likelihoods, we compute the multinomial probability of joining each table (thats the `np.exp(log_probs - np.max(log_probs))` and `probs /= np.sum(probs)` portion), and then we sample one of the tables. We do this for a few iterations and we get cluster assignments for each element.\n",
    "\n",
    "alpha typically is `expected_number_of_clusters / np.log(X)`, but this can be fairly robust to model misspecification, which is a nice feature to have! We'll show this off by using alpha = 1.0, which I kind of like to think of as the null hypothesis (no clusters, just one big sample), though thats not really how it works..."
   ]
  },
  {
   "cell_type": "code",
   "execution_count": 42,
   "id": "85dc8dab",
   "metadata": {},
   "outputs": [
    {
     "name": "stderr",
     "output_type": "stream",
     "text": [
      "100%|██████████| 100/100 [00:00<00:00, 139.56it/s]\n"
     ]
    }
   ],
   "source": [
    "from tqdm import tqdm\n",
    "from collections import defaultdict\n",
    "\n",
    "alpha = 1.0 / np.log(len(X))\n",
    "\n",
    "clusters = defaultdict(list)\n",
    "assignments = np.array([-1] * len(X))  # -1 means unassigned\n",
    "\n",
    "for epoch in tqdm(range(100)):\n",
    "    # for each element in X\n",
    "    for ix, x_new in enumerate(X):\n",
    "        # save old assignments\n",
    "        k_old = assignments[ix]\n",
    "        assignments[ix] = -1 # reset assignment\n",
    "\n",
    "        if k_old != -1:  # don't try to remove if it's unassigned\n",
    "            clusters[k_old].remove(ix)\n",
    "            if len(clusters[k_old]) == 0:\n",
    "                del clusters[k_old]\n",
    "\n",
    "\n",
    "        if len(clusters[k_old]) == 0:\n",
    "            del clusters[k_old]\n",
    "\n",
    "        # question: which cluster should we assign this new data point to?\n",
    "        labels = list(clusters.keys()) + ['new']\n",
    "        log_probs = []\n",
    "\n",
    "        for k in labels:\n",
    "            if k == 'new':\n",
    "                # If we are assigning to a new cluster, we use the prior.\n",
    "                log_prob = log_predictive(x_new, np.array([])) + np.log(alpha)\n",
    "            else:\n",
    "                # Otherwise, we use the existing cluster.\n",
    "                log_prob = log_predictive(x_new, np.array(X[clusters[k]])) + np.log(len(clusters[k]))\n",
    "\n",
    "            log_probs.append(log_prob)\n",
    "\n",
    "        probs = np.exp(log_probs - np.max(log_probs))\n",
    "        probs /= np.sum(probs)\n",
    "\n",
    "        k_new = np.random.choice(labels, p=probs)\n",
    "\n",
    "        if k_new == 'new':\n",
    "            k_new = max(clusters.keys(), default=-1) + 1\n",
    "\n",
    "        assignments[ix] = k_new\n",
    "        clusters[int(k_new)].append(ix)"
   ]
  },
  {
   "cell_type": "markdown",
   "id": "45a4fe79",
   "metadata": {},
   "source": [
    "Even after misspecifying the model, we see the model definitely prefers 2 major clusters, and if we look at those clusters' empirical means and std..."
   ]
  },
  {
   "cell_type": "code",
   "execution_count": 43,
   "id": "80cb7c2d",
   "metadata": {},
   "outputs": [
    {
     "data": {
      "text/plain": [
       "array([0, 0, 0, 1, 1, 0, 0, 0, 0, 0, 0, 0, 0, 0, 0, 0, 1, 0, 0, 0, 0, 0,\n",
       "       0, 0, 1, 0, 0, 0, 0, 0, 0, 0, 0, 0, 0, 0, 0, 1, 0, 0, 0, 0, 0, 0,\n",
       "       0, 0, 0, 0, 0, 0, 0, 0, 0, 0, 0, 0, 0, 0, 0, 3, 0, 0, 0, 0, 0, 0,\n",
       "       0, 0, 0, 0, 0, 0, 0, 0, 0, 0, 0, 0, 0, 0, 0, 0, 0, 0, 0, 0, 4, 0,\n",
       "       0, 0, 0, 0, 0, 0, 0, 0, 0, 0, 0, 0, 1, 1, 1, 1, 1, 1, 1, 1, 1, 1,\n",
       "       1, 1, 1, 1, 1, 1, 1, 1, 1, 1, 1, 1, 1, 1, 1, 1, 1, 1, 1, 1, 1, 1,\n",
       "       3, 1, 1, 1, 1, 1, 1, 1, 1, 1, 1, 1, 1, 1, 1, 1, 1, 1, 1, 1, 1, 1,\n",
       "       1, 1, 1, 1, 1, 1, 1, 1, 1, 1, 1, 1, 1, 1, 1, 1, 1, 1, 1, 1, 1, 1,\n",
       "       1, 1, 1, 1, 1, 1, 1, 1, 1, 1, 4, 1, 1, 1, 1, 1, 1, 0, 1, 1, 1, 1,\n",
       "       1, 1])"
      ]
     },
     "execution_count": 43,
     "metadata": {},
     "output_type": "execute_result"
    },
    {
     "data": {
      "image/png": "[encoded data removed]",
      "text/plain": [
       "<Figure size 640x480 with 1 Axes>"
      ]
     },
     "metadata": {},
     "output_type": "display_data"
    }
   ],
   "source": [
    "import pandas as pd\n",
    "pd.Series(assignments).value_counts().sort_index().plot(kind='bar')\n",
    "assignments"
   ]
  },
  {
   "cell_type": "code",
   "execution_count": 44,
   "id": "d337c462",
   "metadata": {},
   "outputs": [
    {
     "name": "stdout",
     "output_type": "stream",
     "text": [
      "Cluster 1:\n",
      "mu = -2.01146803281645, std = 0.9843857600415876\n",
      "\n",
      "Cluster 2:\n",
      "mu = 2.002184032430312, std = 1.1264585715310347\n",
      "\n"
     ]
    }
   ],
   "source": [
    "print(\"Cluster 1:\")\n",
    "print(f\"mu = {np.mean([X[i] for i in clusters[0]])}, std = {np.std([X[i] for i in clusters[0]])}\\n\")\n",
    "\n",
    "print(\"Cluster 2:\")\n",
    "print(f\"mu = {np.mean([X[i] for i in clusters[1]])}, std = {np.std([X[i] for i in clusters[1]])}\\n\")"
   ]
  },
  {
   "cell_type": "markdown",
   "id": "c987229c",
   "metadata": {},
   "source": [
    "We've learned our distributions! Basically, any Chinese Restaurant Process is going to run exactly like this, and we can 'endow' these tables with any distribution we want, as long as we have some way to update the parameters (ideally quickly) when performing inference."
   ]
  }
 ],
 "metadata": {
  "kernelspec": {
   "display_name": ".venv",
   "language": "python",
   "name": "python3"
  },
  "language_info": {
   "codemirror_mode": {
    "name": "ipython",
    "version": 3
   },
   "file_extension": ".py",
   "mimetype": "text/x-python",
   "name": "python",
   "nbconvert_exporter": "python",
   "pygments_lexer": "ipython3",
   "version": "3.13.3"
  }
 },
 "nbformat": 4,
 "nbformat_minor": 5
}
