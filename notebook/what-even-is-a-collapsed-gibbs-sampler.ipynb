{
 "cells": [
  {
   "cell_type": "markdown",
   "id": "964bc9fb",
   "metadata": {},
   "source": [
    "# What the heck is a collapsed gibbs sampler?\n",
    "\n",
    "Rather than going through sampling we try to use the magic of conjugacy to update our beliefs about each of the distributions analytically.\n",
    "\n",
    "Its easier to see in code."
   ]
  },
  {
   "cell_type": "code",
   "execution_count": 145,
   "id": "d9f74963",
   "metadata": {},
   "outputs": [
    {
     "data": {
      "text/plain": [
       "(array([ 1.,  6., 14., 19., 12., 12., 19.,  5.,  7.,  5.]),\n",
       " array([0.77659685, 1.23725164, 1.69790643, 2.15856123, 2.61921602,\n",
       "        3.07987081, 3.5405256 , 4.0011804 , 4.46183519, 4.92248998,\n",
       "        5.38314477]),\n",
       " <BarContainer object of 10 artists>)"
      ]
     },
     "execution_count": 145,
     "metadata": {},
     "output_type": "execute_result"
    },
    {
     "data": {
      "image/png": "[encoded data removed]",
      "text/plain": [
       "<Figure size 640x480 with 1 Axes>"
      ]
     },
     "metadata": {},
     "output_type": "display_data"
    }
   ],
   "source": [
    "import numpy as np\n",
    "import matplotlib.pyplot as plt\n",
    "\n",
    "# Generate some synthetic 1D data\n",
    "np.random.seed(0)\n",
    "X = np.concatenate([\n",
    "    np.random.normal(-3, 1, size=100),\n",
    "    np.random.normal(3, 1, size=100)\n",
    "])\n",
    "\n",
    "# Showing that we created two univariate distributions.\n",
    "plt.hist(X[:100])\n",
    "plt.hist(X[100:])"
   ]
  },
  {
   "cell_type": "markdown",
   "id": "a7412647",
   "metadata": {},
   "source": [
    "# Log Predictive\n",
    "\n",
    "In this case, we see what the probability would be *if* we did an update to the parameters of our distribution. This is sort of slick, because we get to quickly update our distribution before checking if that will lead to some update in the distribution."
   ]
  },
  {
   "cell_type": "code",
   "execution_count": 146,
   "id": "6da4011a",
   "metadata": {},
   "outputs": [],
   "source": [
    "def log_predictive(x_new, x_k, mu0=0, tau2=1, sigma2=1):\n",
    "    \"\"\"Log predictive probability of x_new given data in cluster k\"\"\"\n",
    "    # We have our initial parameters\n",
    "    n = len(x_k)\n",
    "    if n == 0:\n",
    "        # We assign some uninformative priors (sigma2 and tau2 both equal to 1), and we get some prior estimate of the variance (2).\n",
    "        var = sigma2 + tau2\n",
    "        \n",
    "        # This is the log likelihood of our new data point, given our prior distribution assumptions.\n",
    "        return -0.5 * np.log(2 * np.pi * var) - 0.5 * x_new**2 / var\n",
    "\n",
    "    else:\n",
    "        # When we have data, we can update our parameters.\n",
    "        # Empirical mean.\n",
    "        x_bar = np.mean(x_k)\n",
    "        # This is an update formula.\n",
    "\n",
    "        # https://en.wikipedia.org/wiki/Conjugate_prior#Table_of_conjugate_distributions\n",
    "        var = sigma2 * (1 + 1 / (n + sigma2 / tau2))\n",
    "        mean = (n * x_bar + (sigma2 / tau2) * mu0) / (n + sigma2 / tau2)\n",
    "        return -0.5 * np.log(2 * np.pi * var) - 0.5 * (x_new - mean)**2 / var\n",
    "\n"
   ]
  },
  {
   "cell_type": "markdown",
   "id": "613d8978",
   "metadata": {},
   "source": [
    "# Collapsed Gibbs Sampler\n",
    "\n",
    "Rather than doing some full update by re-estimating all the parameters, we can used a closed form update (thanks math god), and we get really quick estimations of each of the classes, and can estimate which of these groups they should belong to.\n",
    "\n",
    "Even under model misspecification, this can be very robust, for example, our choice of alpha is typically informed by the number of expected classes we are going to see in our data:\n",
    "\n",
    "expected_number_of_classes = alpha * log(N)\n",
    "\n",
    "so here, we are estimating that we have 100 classes, but look how butifyl it looks."
   ]
  },
  {
   "cell_type": "code",
   "execution_count": 162,
   "id": "85dc8dab",
   "metadata": {},
   "outputs": [
    {
     "name": "stderr",
     "output_type": "stream",
     "text": [
      "100%|██████████| 100/100 [00:00<00:00, 127.18it/s]\n"
     ]
    }
   ],
   "source": [
    "from tqdm import tqdm\n",
    "from collections import defaultdict\n",
    "\n",
    "alpha = 100.0 / len(X)\n",
    "\n",
    "clusters = defaultdict(list)\n",
    "assignments = np.array([-1] * len(X))  # -1 means unassigned\n",
    "\n",
    "for epoch in tqdm(range(100)):\n",
    "    # for each element in X\n",
    "    for ix, x_new in enumerate(X):\n",
    "        # save old assignments\n",
    "        k_old = assignments[ix]\n",
    "        assignments[ix] = -1 # reset assignment\n",
    "\n",
    "        if k_old != -1:  # don't try to remove if it's unassigned\n",
    "            clusters[k_old].remove(ix)\n",
    "            if len(clusters[k_old]) == 0:\n",
    "                del clusters[k_old]\n",
    "\n",
    "\n",
    "        if len(clusters[k_old]) == 0:\n",
    "            del clusters[k_old]\n",
    "\n",
    "        # question: which cluster should we assign this new data point to?\n",
    "        labels = list(clusters.keys()) + ['new']\n",
    "        log_probs = []\n",
    "\n",
    "        for k in labels:\n",
    "            if k == 'new':\n",
    "                # If we are assigning to a new cluster, we use the prior.\n",
    "                log_prob = log_predictive(x_new, np.array([])) + np.log(alpha)\n",
    "            else:\n",
    "                # Otherwise, we use the existing cluster.\n",
    "                log_prob = log_predictive(x_new, np.array(X[clusters[k]])) + np.log(len(clusters[k]))\n",
    "\n",
    "            log_probs.append(log_prob)\n",
    "\n",
    "        probs = np.exp(log_probs - np.max(log_probs))\n",
    "        probs /= np.sum(probs)\n",
    "\n",
    "        k_new = np.random.choice(labels, p=probs)\n",
    "\n",
    "        if k_new == 'new':\n",
    "            k_new = max(clusters.keys(), default=-1) + 1\n",
    "\n",
    "        assignments[ix] = k_new\n",
    "        clusters[int(k_new)].append(ix)"
   ]
  },
  {
   "cell_type": "markdown",
   "id": "45a4fe79",
   "metadata": {},
   "source": [
    "Nearly separation of clusters each time (if you run this several times, you'll get variations on the same theme, two main distributions)."
   ]
  },
  {
   "cell_type": "code",
   "execution_count": 163,
   "id": "80cb7c2d",
   "metadata": {},
   "outputs": [
    {
     "data": {
      "text/plain": [
       "array([0, 0, 0, 0, 0, 0, 0, 0, 0, 0, 0, 0, 0, 0, 0, 0, 0, 0, 0, 0, 0, 0,\n",
       "       0, 0, 0, 0, 0, 0, 0, 0, 0, 0, 0, 0, 0, 0, 0, 0, 0, 0, 0, 0, 0, 0,\n",
       "       0, 0, 0, 0, 0, 0, 0, 0, 0, 0, 0, 0, 0, 0, 0, 0, 0, 0, 0, 0, 0, 0,\n",
       "       0, 0, 0, 0, 0, 0, 0, 0, 0, 0, 0, 0, 0, 0, 0, 0, 0, 0, 0, 0, 0, 0,\n",
       "       0, 0, 0, 0, 0, 0, 0, 0, 0, 0, 0, 0, 2, 2, 2, 2, 2, 2, 2, 2, 2, 2,\n",
       "       2, 2, 2, 2, 2, 2, 2, 2, 2, 2, 2, 2, 2, 2, 2, 2, 2, 2, 2, 2, 2, 2,\n",
       "       2, 2, 2, 2, 2, 2, 2, 2, 2, 2, 2, 2, 2, 2, 2, 2, 2, 2, 2, 2, 2, 2,\n",
       "       2, 2, 2, 2, 2, 2, 2, 2, 2, 2, 2, 2, 2, 2, 2, 2, 2, 2, 2, 2, 2, 2,\n",
       "       2, 2, 2, 2, 2, 2, 2, 2, 2, 2, 2, 2, 2, 2, 2, 2, 2, 2, 2, 2, 2, 2,\n",
       "       2, 2])"
      ]
     },
     "execution_count": 163,
     "metadata": {},
     "output_type": "execute_result"
    },
    {
     "data": {
      "image/png": "[encoded data removed]",
      "text/plain": [
       "<Figure size 640x480 with 1 Axes>"
      ]
     },
     "metadata": {},
     "output_type": "display_data"
    }
   ],
   "source": [
    "pd.Series(assignments).value_counts().sort_index().plot(kind='bar')\n",
    "assignments"
   ]
  }
 ],
 "metadata": {
  "kernelspec": {
   "display_name": ".venv",
   "language": "python",
   "name": "python3"
  },
  "language_info": {
   "codemirror_mode": {
    "name": "ipython",
    "version": 3
   },
   "file_extension": ".py",
   "mimetype": "text/x-python",
   "name": "python",
   "nbconvert_exporter": "python",
   "pygments_lexer": "ipython3",
   "version": "3.12.7"
  }
 },
 "nbformat": 4,
 "nbformat_minor": 5
}
