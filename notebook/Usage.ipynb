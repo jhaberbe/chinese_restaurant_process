{
 "cells": [
  {
   "cell_type": "code",
   "execution_count": 3,
   "id": "082f93fd",
   "metadata": {},
   "outputs": [
    {
     "name": "stdout",
     "output_type": "stream",
     "text": [
      "Collecting git+https://www.github.com/jhaberbe/chinese_restaurant_process\n",
      "  Cloning https://www.github.com/jhaberbe/chinese_restaurant_process to /tmp/pip-req-build-w1b1vny_\n",
      "  Running command git clone --filter=blob:none --quiet https://www.github.com/jhaberbe/chinese_restaurant_process /tmp/pip-req-build-w1b1vny_\n",
      "  warning: redirecting to https://github.com/jhaberbe/chinese_restaurant_process.git/\n",
      "  Resolved https://www.github.com/jhaberbe/chinese_restaurant_process to commit bb49e34be8674152ec3445fd25897e3a097dd387\n",
      "  Installing build dependencies ... \u001b[?25ldone\n",
      "\u001b[?25h  Getting requirements to build wheel ... \u001b[?25ldone\n",
      "\u001b[?25h  Preparing metadata (pyproject.toml) ... \u001b[?25ldone\n",
      "\u001b[?25hRequirement already satisfied: ipykernel>=6.29.5 in /home/jhaberbe/Projects/Personal/chinese_restaurant_process/.venv/lib/python3.13/site-packages (from chinese-restauraunt-process==0.1.0) (6.29.5)\n",
      "Requirement already satisfied: numpy in /home/jhaberbe/Projects/Personal/chinese_restaurant_process/.venv/lib/python3.13/site-packages (from chinese-restauraunt-process==0.1.0) (2.2.6)\n",
      "Requirement already satisfied: scipy in /home/jhaberbe/Projects/Personal/chinese_restaurant_process/.venv/lib/python3.13/site-packages (from chinese-restauraunt-process==0.1.0) (1.15.3)\n",
      "Requirement already satisfied: tqdm in /home/jhaberbe/Projects/Personal/chinese_restaurant_process/.venv/lib/python3.13/site-packages (from chinese-restauraunt-process==0.1.0) (4.67.1)\n",
      "Requirement already satisfied: comm>=0.1.1 in /home/jhaberbe/Projects/Personal/chinese_restaurant_process/.venv/lib/python3.13/site-packages (from ipykernel>=6.29.5->chinese-restauraunt-process==0.1.0) (0.2.2)\n",
      "Requirement already satisfied: debugpy>=1.6.5 in /home/jhaberbe/Projects/Personal/chinese_restaurant_process/.venv/lib/python3.13/site-packages (from ipykernel>=6.29.5->chinese-restauraunt-process==0.1.0) (1.8.14)\n",
      "Requirement already satisfied: ipython>=7.23.1 in /home/jhaberbe/Projects/Personal/chinese_restaurant_process/.venv/lib/python3.13/site-packages (from ipykernel>=6.29.5->chinese-restauraunt-process==0.1.0) (9.3.0)\n",
      "Requirement already satisfied: jupyter-client>=6.1.12 in /home/jhaberbe/Projects/Personal/chinese_restaurant_process/.venv/lib/python3.13/site-packages (from ipykernel>=6.29.5->chinese-restauraunt-process==0.1.0) (8.6.3)\n",
      "Requirement already satisfied: jupyter-core!=5.0.*,>=4.12 in /home/jhaberbe/Projects/Personal/chinese_restaurant_process/.venv/lib/python3.13/site-packages (from ipykernel>=6.29.5->chinese-restauraunt-process==0.1.0) (5.8.1)\n",
      "Requirement already satisfied: matplotlib-inline>=0.1 in /home/jhaberbe/Projects/Personal/chinese_restaurant_process/.venv/lib/python3.13/site-packages (from ipykernel>=6.29.5->chinese-restauraunt-process==0.1.0) (0.1.7)\n",
      "Requirement already satisfied: nest-asyncio in /home/jhaberbe/Projects/Personal/chinese_restaurant_process/.venv/lib/python3.13/site-packages (from ipykernel>=6.29.5->chinese-restauraunt-process==0.1.0) (1.6.0)\n",
      "Requirement already satisfied: packaging in /home/jhaberbe/Projects/Personal/chinese_restaurant_process/.venv/lib/python3.13/site-packages (from ipykernel>=6.29.5->chinese-restauraunt-process==0.1.0) (25.0)\n",
      "Requirement already satisfied: psutil in /home/jhaberbe/Projects/Personal/chinese_restaurant_process/.venv/lib/python3.13/site-packages (from ipykernel>=6.29.5->chinese-restauraunt-process==0.1.0) (7.0.0)\n",
      "Requirement already satisfied: pyzmq>=24 in /home/jhaberbe/Projects/Personal/chinese_restaurant_process/.venv/lib/python3.13/site-packages (from ipykernel>=6.29.5->chinese-restauraunt-process==0.1.0) (27.0.0)\n",
      "Requirement already satisfied: tornado>=6.1 in /home/jhaberbe/Projects/Personal/chinese_restaurant_process/.venv/lib/python3.13/site-packages (from ipykernel>=6.29.5->chinese-restauraunt-process==0.1.0) (6.5.1)\n",
      "Requirement already satisfied: traitlets>=5.4.0 in /home/jhaberbe/Projects/Personal/chinese_restaurant_process/.venv/lib/python3.13/site-packages (from ipykernel>=6.29.5->chinese-restauraunt-process==0.1.0) (5.14.3)\n",
      "Requirement already satisfied: decorator in /home/jhaberbe/Projects/Personal/chinese_restaurant_process/.venv/lib/python3.13/site-packages (from ipython>=7.23.1->ipykernel>=6.29.5->chinese-restauraunt-process==0.1.0) (5.2.1)\n",
      "Requirement already satisfied: ipython-pygments-lexers in /home/jhaberbe/Projects/Personal/chinese_restaurant_process/.venv/lib/python3.13/site-packages (from ipython>=7.23.1->ipykernel>=6.29.5->chinese-restauraunt-process==0.1.0) (1.1.1)\n",
      "Requirement already satisfied: jedi>=0.16 in /home/jhaberbe/Projects/Personal/chinese_restaurant_process/.venv/lib/python3.13/site-packages (from ipython>=7.23.1->ipykernel>=6.29.5->chinese-restauraunt-process==0.1.0) (0.19.2)\n",
      "Requirement already satisfied: pexpect>4.3 in /home/jhaberbe/Projects/Personal/chinese_restaurant_process/.venv/lib/python3.13/site-packages (from ipython>=7.23.1->ipykernel>=6.29.5->chinese-restauraunt-process==0.1.0) (4.9.0)\n",
      "Requirement already satisfied: prompt_toolkit<3.1.0,>=3.0.41 in /home/jhaberbe/Projects/Personal/chinese_restaurant_process/.venv/lib/python3.13/site-packages (from ipython>=7.23.1->ipykernel>=6.29.5->chinese-restauraunt-process==0.1.0) (3.0.51)\n",
      "Requirement already satisfied: pygments>=2.4.0 in /home/jhaberbe/Projects/Personal/chinese_restaurant_process/.venv/lib/python3.13/site-packages (from ipython>=7.23.1->ipykernel>=6.29.5->chinese-restauraunt-process==0.1.0) (2.19.1)\n",
      "Requirement already satisfied: stack_data in /home/jhaberbe/Projects/Personal/chinese_restaurant_process/.venv/lib/python3.13/site-packages (from ipython>=7.23.1->ipykernel>=6.29.5->chinese-restauraunt-process==0.1.0) (0.6.3)\n",
      "Requirement already satisfied: wcwidth in /home/jhaberbe/Projects/Personal/chinese_restaurant_process/.venv/lib/python3.13/site-packages (from prompt_toolkit<3.1.0,>=3.0.41->ipython>=7.23.1->ipykernel>=6.29.5->chinese-restauraunt-process==0.1.0) (0.2.13)\n",
      "Requirement already satisfied: parso<0.9.0,>=0.8.4 in /home/jhaberbe/Projects/Personal/chinese_restaurant_process/.venv/lib/python3.13/site-packages (from jedi>=0.16->ipython>=7.23.1->ipykernel>=6.29.5->chinese-restauraunt-process==0.1.0) (0.8.4)\n",
      "Requirement already satisfied: python-dateutil>=2.8.2 in /home/jhaberbe/Projects/Personal/chinese_restaurant_process/.venv/lib/python3.13/site-packages (from jupyter-client>=6.1.12->ipykernel>=6.29.5->chinese-restauraunt-process==0.1.0) (2.9.0.post0)\n",
      "Requirement already satisfied: platformdirs>=2.5 in /home/jhaberbe/Projects/Personal/chinese_restaurant_process/.venv/lib/python3.13/site-packages (from jupyter-core!=5.0.*,>=4.12->ipykernel>=6.29.5->chinese-restauraunt-process==0.1.0) (4.3.8)\n",
      "Requirement already satisfied: ptyprocess>=0.5 in /home/jhaberbe/Projects/Personal/chinese_restaurant_process/.venv/lib/python3.13/site-packages (from pexpect>4.3->ipython>=7.23.1->ipykernel>=6.29.5->chinese-restauraunt-process==0.1.0) (0.7.0)\n",
      "Requirement already satisfied: six>=1.5 in /home/jhaberbe/Projects/Personal/chinese_restaurant_process/.venv/lib/python3.13/site-packages (from python-dateutil>=2.8.2->jupyter-client>=6.1.12->ipykernel>=6.29.5->chinese-restauraunt-process==0.1.0) (1.17.0)\n",
      "Requirement already satisfied: executing>=1.2.0 in /home/jhaberbe/Projects/Personal/chinese_restaurant_process/.venv/lib/python3.13/site-packages (from stack_data->ipython>=7.23.1->ipykernel>=6.29.5->chinese-restauraunt-process==0.1.0) (2.2.0)\n",
      "Requirement already satisfied: asttokens>=2.1.0 in /home/jhaberbe/Projects/Personal/chinese_restaurant_process/.venv/lib/python3.13/site-packages (from stack_data->ipython>=7.23.1->ipykernel>=6.29.5->chinese-restauraunt-process==0.1.0) (3.0.0)\n",
      "Requirement already satisfied: pure-eval in /home/jhaberbe/Projects/Personal/chinese_restaurant_process/.venv/lib/python3.13/site-packages (from stack_data->ipython>=7.23.1->ipykernel>=6.29.5->chinese-restauraunt-process==0.1.0) (0.2.3)\n"
     ]
    }
   ],
   "source": [
    "!pip install git+https://www.github.com/jhaberbe/chinese_restaurant_process --upgrade"
   ]
  },
  {
   "cell_type": "code",
   "execution_count": 1,
   "id": "96bcfcda",
   "metadata": {},
   "outputs": [
    {
     "ename": "ModuleNotFoundError",
     "evalue": "No module named 'crp.table'",
     "output_type": "error",
     "traceback": [
      "\u001b[31m---------------------------------------------------------------------------\u001b[39m",
      "\u001b[31mModuleNotFoundError\u001b[39m                       Traceback (most recent call last)",
      "\u001b[36mCell\u001b[39m\u001b[36m \u001b[39m\u001b[32mIn[1]\u001b[39m\u001b[32m, line 1\u001b[39m\n\u001b[32m----> \u001b[39m\u001b[32m1\u001b[39m \u001b[38;5;28;01mfrom\u001b[39;00m\u001b[38;5;250m \u001b[39m\u001b[34;01mcrp\u001b[39;00m\u001b[34;01m.\u001b[39;00m\u001b[34;01mtable\u001b[39;00m\u001b[38;5;250m \u001b[39m\u001b[38;5;28;01mimport\u001b[39;00m NegativeBinomialTable\n\u001b[32m      2\u001b[39m \u001b[38;5;28;01mfrom\u001b[39;00m\u001b[38;5;250m \u001b[39m\u001b[34;01mcrp\u001b[39;00m\u001b[34;01m.\u001b[39;00m\u001b[34;01mprocess\u001b[39;00m\u001b[38;5;250m \u001b[39m\u001b[38;5;28;01mimport\u001b[39;00m ChineseRestaurantProcess\n",
      "\u001b[31mModuleNotFoundError\u001b[39m: No module named 'crp.table'"
     ]
    }
   ],
   "source": [
    "from crp.table import NegativeBinomialTable\n",
    "from crp.process import ChineseRestaurantProcess"
   ]
  },
  {
   "cell_type": "code",
   "execution_count": null,
   "id": "ef134b96",
   "metadata": {},
   "outputs": [],
   "source": []
  }
 ],
 "metadata": {
  "kernelspec": {
   "display_name": ".venv",
   "language": "python",
   "name": "python3"
  },
  "language_info": {
   "codemirror_mode": {
    "name": "ipython",
    "version": 3
   },
   "file_extension": ".py",
   "mimetype": "text/x-python",
   "name": "python",
   "nbconvert_exporter": "python",
   "pygments_lexer": "ipython3",
   "version": "3.13.3"
  }
 },
 "nbformat": 4,
 "nbformat_minor": 5
}
