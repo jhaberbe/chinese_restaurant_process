{
 "cells": [
  {
   "cell_type": "markdown",
   "id": "64c3ba47",
   "metadata": {},
   "source": [
    "# Basic Usage\n",
    "\n",
    "The class has been designed to be very plug and play. You can get started almost immediately."
   ]
  },
  {
   "cell_type": "code",
   "execution_count": 6,
   "id": "96bcfcda",
   "metadata": {},
   "outputs": [],
   "source": [
    "import numpy as np\n",
    "from crp.table import DirichletMultinomialTable, NegativeBinomialTable\n",
    "from crp.process import ChineseRestaurantProcess"
   ]
  },
  {
   "cell_type": "code",
   "execution_count": 2,
   "id": "ef134b96",
   "metadata": {},
   "outputs": [
    {
     "name": "stderr",
     "output_type": "stream",
     "text": [
      "100%|██████████| 1000/1000 [00:04<00:00, 239.94it/s]\n"
     ]
    }
   ],
   "source": [
    "# Your data, (n_samples, n_features)\n",
    "X = np.random.randint(1, 100, size=(1000, 10))\n",
    "X_new = np.random.randint(1, 100, size=(1000, 10))\n",
    "\n",
    "# Run inference on train data.\n",
    "crp = ChineseRestaurantProcess(X, expected_number_of_classes=1)\n",
    "crp.run(epochs=1)"
   ]
  },
  {
   "cell_type": "code",
   "execution_count": null,
   "id": "f3cc6b54",
   "metadata": {},
   "outputs": [
    {
     "name": "stderr",
     "output_type": "stream",
     "text": [
      "Predicting: 100%|██████████| 1000/1000 [00:06<00:00, 148.87it/s]\n"
     ]
    }
   ],
   "source": [
    "# Run inference on new data. \n",
    "# Setting min_membership = 0.01 is recommended usually.\n",
    "# Since this is random data, we set it to 0\n",
    "labels = crp.predict(X_new, min_membership=0.0)"
   ]
  },
  {
   "cell_type": "markdown",
   "id": "37bf2a1f",
   "metadata": {},
   "source": [
    "Thats it. \n",
    "\n",
    "You can also use different probability distributions. Right now, there is also a negative binomial distribution. In order to set it:"
   ]
  },
  {
   "cell_type": "code",
   "execution_count": 9,
   "id": "2044cf8f",
   "metadata": {},
   "outputs": [
    {
     "name": "stderr",
     "output_type": "stream",
     "text": [
      "100%|██████████| 1000/1000 [00:00<00:00, 2008.07it/s]\n",
      "Predicting: 100%|██████████| 1000/1000 [00:00<00:00, 1591.27it/s]\n"
     ]
    }
   ],
   "source": [
    "crp = ChineseRestaurantProcess(X, expected_number_of_classes=1)\n",
    "crp.set_table_type(NegativeBinomialTable)\n",
    "\n",
    "crp.run(epochs=1)\n",
    "\n",
    "# Run inference on new data. \n",
    "# Setting min_membership = 0.01 is recommended usually.\n",
    "# Since this is random data, we set it to 0\n",
    "labels = crp.predict(X_new, min_membership=0.0)"
   ]
  },
  {
   "cell_type": "markdown",
   "id": "4e599ccd",
   "metadata": {},
   "source": [
    "You can make your own distributions too, which isn't hard if you ask ChatGPT for help. For a reference on how to do this, take a look at the `Explaining-Class-Structure.ipynb` notebook"
   ]
  }
 ],
 "metadata": {
  "kernelspec": {
   "display_name": ".venv",
   "language": "python",
   "name": "python3"
  },
  "language_info": {
   "codemirror_mode": {
    "name": "ipython",
    "version": 3
   },
   "file_extension": ".py",
   "mimetype": "text/x-python",
   "name": "python",
   "nbconvert_exporter": "python",
   "pygments_lexer": "ipython3",
   "version": "3.13.3"
  }
 },
 "nbformat": 4,
 "nbformat_minor": 5
}
