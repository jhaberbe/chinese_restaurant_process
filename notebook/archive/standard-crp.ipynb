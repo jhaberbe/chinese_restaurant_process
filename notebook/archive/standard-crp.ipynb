{
 "cells": [
  {
   "cell_type": "code",
   "execution_count": 16,
   "id": "051bfbf3",
   "metadata": {},
   "outputs": [
    {
     "name": "stderr",
     "output_type": "stream",
     "text": [
      "/home/jhaberbe/Projects/Personal/chinese_restaurant_process/.venv/lib/python3.13/site-packages/scanpy/preprocessing/_highly_variable_genes.py:172: ImplicitModificationWarning: Trying to modify attribute `._uns` of view, initializing view as actual.\n",
      "  adata.uns[\"hvg\"] = {\"flavor\": flavor}\n"
     ]
    }
   ],
   "source": [
    "import numpy as np\n",
    "import scanpy as sc\n",
    "\n",
    "# adata = sc.read_h5ad(\"/home/jhaberbe/Data/choroid-plexus/new_annotations.h5ad\")\n",
    "adata = adata[adata.X.sum(axis=1) > 100]\n",
    "sc.pp.highly_variable_genes(adata, flavor=\"seurat_v3\")\n",
    "\n",
    "counts = adata.X.todense()\n",
    "size_factors = np.log(counts.sum(axis=1) / counts.sum(axis=1).mean())"
   ]
  },
  {
   "cell_type": "code",
   "execution_count": null,
   "id": "d9469f86",
   "metadata": {},
   "outputs": [
    {
     "data": {
      "text/plain": [
       "AL627309.1    False\n",
       "AL627309.5    False\n",
       "AC114498.1    False\n",
       "LINC01409     False\n",
       "FAM87B        False\n",
       "              ...  \n",
       "AP005901.2    False\n",
       "AL049594.1    False\n",
       "AL008723.2    False\n",
       "AL672032.1    False\n",
       "CT55          False\n",
       "Name: highly_variable, Length: 28206, dtype: bool"
      ]
     },
     "execution_count": 18,
     "metadata": {},
     "output_type": "execute_result"
    }
   ],
   "source": [
    "adata[:, "
   ]
  },
  {
   "cell_type": "markdown",
   "id": "a6a4abe1",
   "metadata": {},
   "source": [
    "# Numpy Version"
   ]
  },
  {
   "cell_type": "code",
   "execution_count": 8,
   "id": "5a9126e8",
   "metadata": {},
   "outputs": [],
   "source": [
    "import numpy as np\n",
    "from scipy.special import gammaln\n",
    "from typing import Union\n",
    "\n",
    "class ChineseRestaurantTable:\n",
    "    \"\"\"A class representing a table in the Chinese Restaurant Process using NumPy.\"\"\"\n",
    "\n",
    "    def __init__(self, data: np.ndarray):\n",
    "        self.data = data.astype(np.float64)\n",
    "        self.members = set()\n",
    "\n",
    "        self.concentration = np.ones((1, data.shape[1]), dtype=np.float64)\n",
    "        self.last_updated_epoch = 0\n",
    "\n",
    "    def add_member(self, index: int, epoch: int = None):\n",
    "        self.members.add(index)\n",
    "        self.concentration += self.data[index]\n",
    "\n",
    "        if epoch is not None:\n",
    "            self.last_updated_epoch = epoch\n",
    "\n",
    "    def remove_member(self, index: int):\n",
    "        if index in self.members:\n",
    "            self.members.remove(index)\n",
    "            self.concentration -= self.data[index]\n",
    "\n",
    "    def posterior_concentration(self, index: Union[int, np.ndarray]) -> np.ndarray:\n",
    "        if isinstance(index, np.ndarray):\n",
    "            return self.concentration + index\n",
    "        else:\n",
    "            return self.concentration + self.data[int(index)]\n",
    "\n",
    "    def _log_dirichlet_multinomial(self, count: np.ndarray, concentration: np.ndarray) -> float:\n",
    "        total_count = np.sum(count)\n",
    "        return (\n",
    "            gammaln(np.sum(concentration))\n",
    "            - gammaln(np.sum(concentration) + total_count)\n",
    "            + np.sum(gammaln(concentration + count) - gammaln(concentration))\n",
    "        )\n",
    "\n",
    "    def log_likelihood(self, index: Union[int, np.ndarray]) -> float:\n",
    "        if isinstance(index, np.ndarray):\n",
    "            return self._log_dirichlet_multinomial(index, self.concentration)\n",
    "        else:\n",
    "            count = self.data[int(index)]\n",
    "            return self._log_dirichlet_multinomial(count, self.concentration)\n",
    "\n",
    "    def posterior_log_likelihood(self, index: Union[int, np.ndarray]) -> float:\n",
    "        if isinstance(index, np.ndarray):\n",
    "            conc = self.posterior_concentration(index)\n",
    "            return self._log_dirichlet_multinomial(index, conc)\n",
    "        else:\n",
    "            count = self.data[int(index)]\n",
    "            conc = self.posterior_concentration(index)\n",
    "            return self._log_dirichlet_multinomial(count, conc)\n"
   ]
  },
  {
   "cell_type": "code",
   "execution_count": 23,
   "id": "67a1c1f1",
   "metadata": {},
   "outputs": [],
   "source": [
    "import numpy as np\n",
    "from tqdm import tqdm, trange\n",
    "\n",
    "class ChineseRestaurantProcess:\n",
    "    def __init__(self, data: np.ndarray, expected_classes: int = 10):\n",
    "        self.data = data\n",
    "\n",
    "        self.classes = {}\n",
    "        self.assignments = [-1] * data.shape[0]\n",
    "\n",
    "        self.expected_classes = expected_classes\n",
    "        self._alpha = expected_classes / np.log(data.shape[0])\n",
    "\n",
    "    def generate_new_table(self):\n",
    "        return ChineseRestaurantTable(self.data)\n",
    "\n",
    "    def add_table(self, table, index=None):\n",
    "        new_class_id = 0\n",
    "        while new_class_id in self.classes:\n",
    "            new_class_id += 1\n",
    "        self.classes[new_class_id] = table\n",
    "        if index is not None:\n",
    "            table.add_member(index)\n",
    "        return new_class_id\n",
    "\n",
    "    def remove_table(self, class_id):\n",
    "        if class_id in self.classes:\n",
    "            for member in self.classes[class_id].members:\n",
    "                self.assignments[member] = -1\n",
    "            del self.classes[class_id]\n",
    "        else:\n",
    "            raise ValueError(f\"Class ID {class_id} does not exist.\")\n",
    "\n",
    "    def run(self, epochs=1, max_classes=100, min_membership=0.01):\n",
    "        for epoch in range(epochs):\n",
    "            for i in tqdm(np.random.permutation(self.data.shape[0])):\n",
    "                x_i = self.data[i]\n",
    "\n",
    "                # Generate new table for this round\n",
    "                crp_new = self.generate_new_table()\n",
    "\n",
    "                # Existing class log-likelihoods\n",
    "                cluster_keys = list(self.classes.keys()) + [\"new\"]\n",
    "                nlls = []\n",
    "                for k in self.classes:\n",
    "                    table = self.classes[k]\n",
    "                    log_like = table.posterior_log_likelihood(i)\n",
    "                    log_prior = np.log1p(len(table.members))\n",
    "                    nlls.append(log_like + log_prior)\n",
    "\n",
    "                # New table likelihood\n",
    "                log_new = crp_new.posterior_log_likelihood(i) + np.log(self._alpha)\n",
    "                nlls.append(log_new)\n",
    "\n",
    "                # Softmax sampling\n",
    "                probs = np.exp(nlls - np.max(nlls))  # stability\n",
    "                probs /= probs.sum()\n",
    "                sampled_idx = np.random.choice(len(probs), p=probs)\n",
    "                sampled_class = cluster_keys[sampled_idx]\n",
    "\n",
    "                # Assignment\n",
    "                if sampled_class == \"new\":\n",
    "                    new_table = self.generate_new_table()\n",
    "                    new_table.add_member(i, epoch)\n",
    "                    self.add_table(new_table, i)\n",
    "                else:\n",
    "                    self.classes[sampled_class].add_member(i, epoch)\n",
    "                    self.assignments[i] = int(sampled_class)\n",
    "\n",
    "    def predict(self, X_new: np.ndarray, min_membership: float = 0.01) -> np.ndarray:\n",
    "        \"\"\"\n",
    "        Predict the class for each sample in X_new using posterior log-likelihood.\n",
    "\n",
    "        Parameters:\n",
    "        - X_new: New data points to assign. Shape: (n_samples, n_features)\n",
    "        - min_membership: Minimum proportion of total data a class must have to be used for prediction.\n",
    "\n",
    "        Returns:\n",
    "        - assignments: np.ndarray of predicted class labels\n",
    "        \"\"\"\n",
    "        if not self.classes:\n",
    "            raise ValueError(\"No classes have been trained. Run `run()` before predicting.\")\n",
    "\n",
    "        valid_classes = {\n",
    "            k: v for k, v in self.classes.items()\n",
    "            if len(v.members) >= min_membership * self.data.shape[0]\n",
    "        }\n",
    "\n",
    "        if not valid_classes:\n",
    "            raise ValueError(\"No classes meet the minimum membership threshold.\")\n",
    "\n",
    "        assignments = []\n",
    "\n",
    "        for x in X_new:\n",
    "            nlls = []\n",
    "            keys = list(valid_classes.keys())\n",
    "            for k in keys:\n",
    "                table = valid_classes[k]\n",
    "                log_like = table.posterior_log_likelihood(x)\n",
    "                log_prior = np.log1p(len(table.members))\n",
    "                nlls.append(log_like + log_prior)\n",
    "\n",
    "            # Choose class with highest posterior log-likelihood + prior\n",
    "            best_class = keys[np.argmax(nlls)]\n",
    "            assignments.append(best_class)\n",
    "\n",
    "        return np.array(assignments)\n"
   ]
  },
  {
   "cell_type": "code",
   "execution_count": null,
   "id": "7afb47c5",
   "metadata": {},
   "outputs": [],
   "source": [
    "crp = ChineseRestaurantProcess(counts[::30, adata.var[\"highly_variable\"]], expected_classes=10)\n",
    "crp.run(epochs=1)"
   ]
  },
  {
   "cell_type": "code",
   "execution_count": 29,
   "id": "10eefd5b",
   "metadata": {},
   "outputs": [
    {
     "ename": "ValueError",
     "evalue": "Length of values (6914) does not match length of index (207408)",
     "output_type": "error",
     "traceback": [
      "\u001b[31m---------------------------------------------------------------------------\u001b[39m",
      "\u001b[31mValueError\u001b[39m                                Traceback (most recent call last)",
      "\u001b[36mCell\u001b[39m\u001b[36m \u001b[39m\u001b[32mIn[29]\u001b[39m\u001b[32m, line 1\u001b[39m\n\u001b[32m----> \u001b[39m\u001b[32m1\u001b[39m \u001b[43madata\u001b[49m\u001b[43m.\u001b[49m\u001b[43mobs\u001b[49m\u001b[43m[\u001b[49m\u001b[33;43m\"\u001b[39;49m\u001b[33;43mlabels\u001b[39;49m\u001b[33;43m\"\u001b[39;49m\u001b[43m]\u001b[49m = crp.predict(counts[::\u001b[32m30\u001b[39m, adata.var[\u001b[33m\"\u001b[39m\u001b[33mhighly_variable\u001b[39m\u001b[33m\"\u001b[39m]])\n",
      "\u001b[36mFile \u001b[39m\u001b[32m~/Projects/Personal/chinese_restaurant_process/.venv/lib/python3.13/site-packages/pandas/core/frame.py:4316\u001b[39m, in \u001b[36mDataFrame.__setitem__\u001b[39m\u001b[34m(self, key, value)\u001b[39m\n\u001b[32m   4313\u001b[39m     \u001b[38;5;28mself\u001b[39m._setitem_array([key], value)\n\u001b[32m   4314\u001b[39m \u001b[38;5;28;01melse\u001b[39;00m:\n\u001b[32m   4315\u001b[39m     \u001b[38;5;66;03m# set column\u001b[39;00m\n\u001b[32m-> \u001b[39m\u001b[32m4316\u001b[39m     \u001b[38;5;28;43mself\u001b[39;49m\u001b[43m.\u001b[49m\u001b[43m_set_item\u001b[49m\u001b[43m(\u001b[49m\u001b[43mkey\u001b[49m\u001b[43m,\u001b[49m\u001b[43m \u001b[49m\u001b[43mvalue\u001b[49m\u001b[43m)\u001b[49m\n",
      "\u001b[36mFile \u001b[39m\u001b[32m~/Projects/Personal/chinese_restaurant_process/.venv/lib/python3.13/site-packages/pandas/core/frame.py:4529\u001b[39m, in \u001b[36mDataFrame._set_item\u001b[39m\u001b[34m(self, key, value)\u001b[39m\n\u001b[32m   4519\u001b[39m \u001b[38;5;28;01mdef\u001b[39;00m\u001b[38;5;250m \u001b[39m\u001b[34m_set_item\u001b[39m(\u001b[38;5;28mself\u001b[39m, key, value) -> \u001b[38;5;28;01mNone\u001b[39;00m:\n\u001b[32m   4520\u001b[39m \u001b[38;5;250m    \u001b[39m\u001b[33;03m\"\"\"\u001b[39;00m\n\u001b[32m   4521\u001b[39m \u001b[33;03m    Add series to DataFrame in specified column.\u001b[39;00m\n\u001b[32m   4522\u001b[39m \n\u001b[32m   (...)\u001b[39m\u001b[32m   4527\u001b[39m \u001b[33;03m    ensure homogeneity.\u001b[39;00m\n\u001b[32m   4528\u001b[39m \u001b[33;03m    \"\"\"\u001b[39;00m\n\u001b[32m-> \u001b[39m\u001b[32m4529\u001b[39m     value, refs = \u001b[38;5;28;43mself\u001b[39;49m\u001b[43m.\u001b[49m\u001b[43m_sanitize_column\u001b[49m\u001b[43m(\u001b[49m\u001b[43mvalue\u001b[49m\u001b[43m)\u001b[49m\n\u001b[32m   4531\u001b[39m     \u001b[38;5;28;01mif\u001b[39;00m (\n\u001b[32m   4532\u001b[39m         key \u001b[38;5;129;01min\u001b[39;00m \u001b[38;5;28mself\u001b[39m.columns\n\u001b[32m   4533\u001b[39m         \u001b[38;5;129;01mand\u001b[39;00m value.ndim == \u001b[32m1\u001b[39m\n\u001b[32m   4534\u001b[39m         \u001b[38;5;129;01mand\u001b[39;00m \u001b[38;5;129;01mnot\u001b[39;00m \u001b[38;5;28misinstance\u001b[39m(value.dtype, ExtensionDtype)\n\u001b[32m   4535\u001b[39m     ):\n\u001b[32m   4536\u001b[39m         \u001b[38;5;66;03m# broadcast across multiple columns if necessary\u001b[39;00m\n\u001b[32m   4537\u001b[39m         \u001b[38;5;28;01mif\u001b[39;00m \u001b[38;5;129;01mnot\u001b[39;00m \u001b[38;5;28mself\u001b[39m.columns.is_unique \u001b[38;5;129;01mor\u001b[39;00m \u001b[38;5;28misinstance\u001b[39m(\u001b[38;5;28mself\u001b[39m.columns, MultiIndex):\n",
      "\u001b[36mFile \u001b[39m\u001b[32m~/Projects/Personal/chinese_restaurant_process/.venv/lib/python3.13/site-packages/pandas/core/frame.py:5273\u001b[39m, in \u001b[36mDataFrame._sanitize_column\u001b[39m\u001b[34m(self, value)\u001b[39m\n\u001b[32m   5270\u001b[39m     \u001b[38;5;28;01mreturn\u001b[39;00m _reindex_for_setitem(value, \u001b[38;5;28mself\u001b[39m.index)\n\u001b[32m   5272\u001b[39m \u001b[38;5;28;01mif\u001b[39;00m is_list_like(value):\n\u001b[32m-> \u001b[39m\u001b[32m5273\u001b[39m     \u001b[43mcom\u001b[49m\u001b[43m.\u001b[49m\u001b[43mrequire_length_match\u001b[49m\u001b[43m(\u001b[49m\u001b[43mvalue\u001b[49m\u001b[43m,\u001b[49m\u001b[43m \u001b[49m\u001b[38;5;28;43mself\u001b[39;49m\u001b[43m.\u001b[49m\u001b[43mindex\u001b[49m\u001b[43m)\u001b[49m\n\u001b[32m   5274\u001b[39m arr = sanitize_array(value, \u001b[38;5;28mself\u001b[39m.index, copy=\u001b[38;5;28;01mTrue\u001b[39;00m, allow_2d=\u001b[38;5;28;01mTrue\u001b[39;00m)\n\u001b[32m   5275\u001b[39m \u001b[38;5;28;01mif\u001b[39;00m (\n\u001b[32m   5276\u001b[39m     \u001b[38;5;28misinstance\u001b[39m(value, Index)\n\u001b[32m   5277\u001b[39m     \u001b[38;5;129;01mand\u001b[39;00m value.dtype == \u001b[33m\"\u001b[39m\u001b[33mobject\u001b[39m\u001b[33m\"\u001b[39m\n\u001b[32m   (...)\u001b[39m\u001b[32m   5280\u001b[39m     \u001b[38;5;66;03m# TODO: Remove kludge in sanitize_array for string mode when enforcing\u001b[39;00m\n\u001b[32m   5281\u001b[39m     \u001b[38;5;66;03m# this deprecation\u001b[39;00m\n",
      "\u001b[36mFile \u001b[39m\u001b[32m~/Projects/Personal/chinese_restaurant_process/.venv/lib/python3.13/site-packages/pandas/core/common.py:573\u001b[39m, in \u001b[36mrequire_length_match\u001b[39m\u001b[34m(data, index)\u001b[39m\n\u001b[32m    569\u001b[39m \u001b[38;5;250m\u001b[39m\u001b[33;03m\"\"\"\u001b[39;00m\n\u001b[32m    570\u001b[39m \u001b[33;03mCheck the length of data matches the length of the index.\u001b[39;00m\n\u001b[32m    571\u001b[39m \u001b[33;03m\"\"\"\u001b[39;00m\n\u001b[32m    572\u001b[39m \u001b[38;5;28;01mif\u001b[39;00m \u001b[38;5;28mlen\u001b[39m(data) != \u001b[38;5;28mlen\u001b[39m(index):\n\u001b[32m--> \u001b[39m\u001b[32m573\u001b[39m     \u001b[38;5;28;01mraise\u001b[39;00m \u001b[38;5;167;01mValueError\u001b[39;00m(\n\u001b[32m    574\u001b[39m         \u001b[33m\"\u001b[39m\u001b[33mLength of values \u001b[39m\u001b[33m\"\u001b[39m\n\u001b[32m    575\u001b[39m         \u001b[33mf\u001b[39m\u001b[33m\"\u001b[39m\u001b[33m(\u001b[39m\u001b[38;5;132;01m{\u001b[39;00m\u001b[38;5;28mlen\u001b[39m(data)\u001b[38;5;132;01m}\u001b[39;00m\u001b[33m) \u001b[39m\u001b[33m\"\u001b[39m\n\u001b[32m    576\u001b[39m         \u001b[33m\"\u001b[39m\u001b[33mdoes not match length of index \u001b[39m\u001b[33m\"\u001b[39m\n\u001b[32m    577\u001b[39m         \u001b[33mf\u001b[39m\u001b[33m\"\u001b[39m\u001b[33m(\u001b[39m\u001b[38;5;132;01m{\u001b[39;00m\u001b[38;5;28mlen\u001b[39m(index)\u001b[38;5;132;01m}\u001b[39;00m\u001b[33m)\u001b[39m\u001b[33m\"\u001b[39m\n\u001b[32m    578\u001b[39m     )\n",
      "\u001b[31mValueError\u001b[39m: Length of values (6914) does not match length of index (207408)"
     ]
    }
   ],
   "source": [
    "adata.obs[\"labels\"] = crp.predict(counts[::30, adata.var[\"highly_variable\"]])"
   ]
  },
  {
   "cell_type": "code",
   "execution_count": null,
   "id": "d6c8ed15",
   "metadata": {},
   "outputs": [],
   "source": []
  }
 ],
 "metadata": {
  "kernelspec": {
   "display_name": ".venv",
   "language": "python",
   "name": "python3"
  },
  "language_info": {
   "codemirror_mode": {
    "name": "ipython",
    "version": 3
   },
   "file_extension": ".py",
   "mimetype": "text/x-python",
   "name": "python",
   "nbconvert_exporter": "python",
   "pygments_lexer": "ipython3",
   "version": "3.13.3"
  }
 },
 "nbformat": 4,
 "nbformat_minor": 5
}
