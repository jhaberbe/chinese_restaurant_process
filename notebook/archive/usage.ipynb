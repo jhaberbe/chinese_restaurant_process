{
 "cells": [
  {
   "cell_type": "markdown",
   "id": "8a510ebf",
   "metadata": {},
   "source": [
    "# Usage\n",
    "\n",
    "The following shows how you can implement this pretty easily. Installation is fairly simple through github (PyPI incoming)."
   ]
  },
  {
   "cell_type": "code",
   "execution_count": null,
   "id": "5739022d",
   "metadata": {},
   "outputs": [
    {
     "name": "stdout",
     "output_type": "stream",
     "text": [
      "Collecting git+https://github.com/jhaberbe/crp\n",
      "  Cloning https://github.com/jhaberbe/crp to /private/var/folders/2n/j06nrn2n7r524t776sngh0xr0000gr/T/pip-req-build-u3m05wha\n",
      "  Running command git clone --filter=blob:none --quiet https://github.com/jhaberbe/crp /private/var/folders/2n/j06nrn2n7r524t776sngh0xr0000gr/T/pip-req-build-u3m05wha\n",
      "  Resolved https://github.com/jhaberbe/crp to commit b35ae312829e2391ae6ecbdbf1169f2cd8858fc6\n",
      "  Installing build dependencies ... \u001b[?25ldone\n",
      "\u001b[?25h  Getting requirements to build wheel ... \u001b[?25ldone\n",
      "\u001b[?25h  Preparing metadata (pyproject.toml) ... \u001b[?25ldone\n",
      "\u001b[?25hRequirement already satisfied: ipykernel>=6.29.5 in /opt/homebrew/lib/python3.11/site-packages (from crp==0.2.0) (6.29.5)\n",
      "Requirement already satisfied: numpy>=2.2.6 in /opt/homebrew/lib/python3.11/site-packages (from crp==0.2.0) (2.2.6)\n",
      "Requirement already satisfied: scanpy>=1.11.2 in /opt/homebrew/lib/python3.11/site-packages (from crp==0.2.0) (1.11.2)\n",
      "Requirement already satisfied: scipy>=1.15.3 in /opt/homebrew/lib/python3.11/site-packages (from crp==0.2.0) (1.15.3)\n",
      "Requirement already satisfied: tqdm>=4.67.1 in /opt/homebrew/lib/python3.11/site-packages (from crp==0.2.0) (4.67.1)\n",
      "Requirement already satisfied: appnope in /Users/jameshaberberger/Library/Python/3.11/lib/python/site-packages (from ipykernel>=6.29.5->crp==0.2.0) (0.1.4)\n",
      "Requirement already satisfied: comm>=0.1.1 in /Users/jameshaberberger/Library/Python/3.11/lib/python/site-packages (from ipykernel>=6.29.5->crp==0.2.0) (0.2.2)\n",
      "Requirement already satisfied: debugpy>=1.6.5 in /Users/jameshaberberger/Library/Python/3.11/lib/python/site-packages (from ipykernel>=6.29.5->crp==0.2.0) (1.8.1)\n",
      "Requirement already satisfied: ipython>=7.23.1 in /Users/jameshaberberger/Library/Python/3.11/lib/python/site-packages (from ipykernel>=6.29.5->crp==0.2.0) (8.25.0)\n",
      "Requirement already satisfied: jupyter-client>=6.1.12 in /Users/jameshaberberger/Library/Python/3.11/lib/python/site-packages (from ipykernel>=6.29.5->crp==0.2.0) (8.6.2)\n",
      "Requirement already satisfied: jupyter-core!=5.0.*,>=4.12 in /Users/jameshaberberger/Library/Python/3.11/lib/python/site-packages (from ipykernel>=6.29.5->crp==0.2.0) (5.7.2)\n",
      "Requirement already satisfied: matplotlib-inline>=0.1 in /Users/jameshaberberger/Library/Python/3.11/lib/python/site-packages (from ipykernel>=6.29.5->crp==0.2.0) (0.1.7)\n",
      "Requirement already satisfied: nest-asyncio in /opt/homebrew/lib/python3.11/site-packages (from ipykernel>=6.29.5->crp==0.2.0) (1.6.0)\n",
      "Requirement already satisfied: packaging in /opt/homebrew/lib/python3.11/site-packages (from ipykernel>=6.29.5->crp==0.2.0) (24.1)\n",
      "Requirement already satisfied: psutil in /Users/jameshaberberger/Library/Python/3.11/lib/python/site-packages (from ipykernel>=6.29.5->crp==0.2.0) (5.9.8)\n",
      "Requirement already satisfied: pyzmq>=24 in /Users/jameshaberberger/Library/Python/3.11/lib/python/site-packages (from ipykernel>=6.29.5->crp==0.2.0) (26.0.3)\n",
      "Requirement already satisfied: tornado>=6.1 in /Users/jameshaberberger/Library/Python/3.11/lib/python/site-packages (from ipykernel>=6.29.5->crp==0.2.0) (6.4.1)\n",
      "Requirement already satisfied: traitlets>=5.4.0 in /Users/jameshaberberger/Library/Python/3.11/lib/python/site-packages (from ipykernel>=6.29.5->crp==0.2.0) (5.14.3)\n",
      "Requirement already satisfied: anndata>=0.8 in /opt/homebrew/lib/python3.11/site-packages (from scanpy>=1.11.2->crp==0.2.0) (0.10.8)\n",
      "Requirement already satisfied: h5py>=3.7.0 in /opt/homebrew/lib/python3.11/site-packages (from scanpy>=1.11.2->crp==0.2.0) (3.13.0)\n",
      "Requirement already satisfied: joblib in /opt/homebrew/lib/python3.11/site-packages (from scanpy>=1.11.2->crp==0.2.0) (1.3.1)\n",
      "Requirement already satisfied: legacy-api-wrap>=1.4.1 in /opt/homebrew/lib/python3.11/site-packages (from scanpy>=1.11.2->crp==0.2.0) (1.4.1)\n",
      "Requirement already satisfied: matplotlib>=3.7.5 in /opt/homebrew/lib/python3.11/site-packages (from scanpy>=1.11.2->crp==0.2.0) (3.10.3)\n",
      "Requirement already satisfied: natsort in /opt/homebrew/lib/python3.11/site-packages (from scanpy>=1.11.2->crp==0.2.0) (8.4.0)\n",
      "Requirement already satisfied: networkx>=2.7.1 in /opt/homebrew/lib/python3.11/site-packages (from scanpy>=1.11.2->crp==0.2.0) (3.2.1)\n",
      "Requirement already satisfied: numba>=0.57.1 in /opt/homebrew/lib/python3.11/site-packages (from scanpy>=1.11.2->crp==0.2.0) (0.61.2)\n",
      "Requirement already satisfied: pandas>=1.5.3 in /opt/homebrew/lib/python3.11/site-packages (from scanpy>=1.11.2->crp==0.2.0) (2.2.3)\n",
      "Requirement already satisfied: patsy!=1.0.0 in /opt/homebrew/lib/python3.11/site-packages (from scanpy>=1.11.2->crp==0.2.0) (0.5.6)\n",
      "Requirement already satisfied: pynndescent>=0.5.13 in /opt/homebrew/lib/python3.11/site-packages (from scanpy>=1.11.2->crp==0.2.0) (0.5.13)\n",
      "Requirement already satisfied: scikit-learn>=1.1.3 in /opt/homebrew/lib/python3.11/site-packages (from scanpy>=1.11.2->crp==0.2.0) (1.7.0)\n",
      "Requirement already satisfied: seaborn>=0.13.2 in /opt/homebrew/lib/python3.11/site-packages (from scanpy>=1.11.2->crp==0.2.0) (0.13.2)\n",
      "Requirement already satisfied: session-info2 in /opt/homebrew/lib/python3.11/site-packages (from scanpy>=1.11.2->crp==0.2.0) (0.1.2)\n",
      "Requirement already satisfied: statsmodels>=0.14.4 in /opt/homebrew/lib/python3.11/site-packages (from scanpy>=1.11.2->crp==0.2.0) (0.14.4)\n",
      "Requirement already satisfied: typing-extensions in /opt/homebrew/lib/python3.11/site-packages (from scanpy>=1.11.2->crp==0.2.0) (4.12.2)\n",
      "Requirement already satisfied: umap-learn>=0.5.6 in /opt/homebrew/lib/python3.11/site-packages (from scanpy>=1.11.2->crp==0.2.0) (0.5.7)\n",
      "Requirement already satisfied: array-api-compat!=1.5,>1.4 in /opt/homebrew/lib/python3.11/site-packages (from anndata>=0.8->scanpy>=1.11.2->crp==0.2.0) (1.7.1)\n",
      "Requirement already satisfied: decorator in /Users/jameshaberberger/Library/Python/3.11/lib/python/site-packages (from ipython>=7.23.1->ipykernel>=6.29.5->crp==0.2.0) (5.1.1)\n",
      "Requirement already satisfied: jedi>=0.16 in /Users/jameshaberberger/Library/Python/3.11/lib/python/site-packages (from ipython>=7.23.1->ipykernel>=6.29.5->crp==0.2.0) (0.19.1)\n",
      "Requirement already satisfied: prompt-toolkit<3.1.0,>=3.0.41 in /Users/jameshaberberger/Library/Python/3.11/lib/python/site-packages (from ipython>=7.23.1->ipykernel>=6.29.5->crp==0.2.0) (3.0.46)\n",
      "Requirement already satisfied: pygments>=2.4.0 in /opt/homebrew/lib/python3.11/site-packages (from ipython>=7.23.1->ipykernel>=6.29.5->crp==0.2.0) (2.18.0)\n",
      "Requirement already satisfied: stack-data in /Users/jameshaberberger/Library/Python/3.11/lib/python/site-packages (from ipython>=7.23.1->ipykernel>=6.29.5->crp==0.2.0) (0.6.3)\n",
      "Requirement already satisfied: pexpect>4.3 in /Users/jameshaberberger/Library/Python/3.11/lib/python/site-packages (from ipython>=7.23.1->ipykernel>=6.29.5->crp==0.2.0) (4.9.0)\n",
      "Requirement already satisfied: python-dateutil>=2.8.2 in /Users/jameshaberberger/Library/Python/3.11/lib/python/site-packages (from jupyter-client>=6.1.12->ipykernel>=6.29.5->crp==0.2.0) (2.9.0.post0)\n",
      "Requirement already satisfied: platformdirs>=2.5 in /Users/jameshaberberger/Library/Python/3.11/lib/python/site-packages (from jupyter-core!=5.0.*,>=4.12->ipykernel>=6.29.5->crp==0.2.0) (4.2.2)\n",
      "Requirement already satisfied: contourpy>=1.0.1 in /opt/homebrew/lib/python3.11/site-packages (from matplotlib>=3.7.5->scanpy>=1.11.2->crp==0.2.0) (1.1.0)\n",
      "Requirement already satisfied: cycler>=0.10 in /opt/homebrew/lib/python3.11/site-packages (from matplotlib>=3.7.5->scanpy>=1.11.2->crp==0.2.0) (0.11.0)\n",
      "Requirement already satisfied: fonttools>=4.22.0 in /opt/homebrew/lib/python3.11/site-packages (from matplotlib>=3.7.5->scanpy>=1.11.2->crp==0.2.0) (4.41.1)\n",
      "Requirement already satisfied: kiwisolver>=1.3.1 in /opt/homebrew/lib/python3.11/site-packages (from matplotlib>=3.7.5->scanpy>=1.11.2->crp==0.2.0) (1.4.4)\n",
      "Requirement already satisfied: pillow>=8 in /Users/jameshaberberger/Library/Python/3.11/lib/python/site-packages (from matplotlib>=3.7.5->scanpy>=1.11.2->crp==0.2.0) (11.0.0)\n",
      "Requirement already satisfied: pyparsing>=2.3.1 in /opt/homebrew/lib/python3.11/site-packages (from matplotlib>=3.7.5->scanpy>=1.11.2->crp==0.2.0) (3.0.9)\n",
      "Requirement already satisfied: llvmlite<0.45,>=0.44.0dev0 in /opt/homebrew/lib/python3.11/site-packages (from numba>=0.57.1->scanpy>=1.11.2->crp==0.2.0) (0.44.0)\n",
      "Requirement already satisfied: pytz>=2020.1 in /opt/homebrew/lib/python3.11/site-packages (from pandas>=1.5.3->scanpy>=1.11.2->crp==0.2.0) (2022.7.1)\n",
      "Requirement already satisfied: tzdata>=2022.7 in /opt/homebrew/lib/python3.11/site-packages (from pandas>=1.5.3->scanpy>=1.11.2->crp==0.2.0) (2023.3)\n",
      "Requirement already satisfied: six in /Users/jameshaberberger/Library/Python/3.11/lib/python/site-packages (from patsy!=1.0.0->scanpy>=1.11.2->crp==0.2.0) (1.16.0)\n",
      "Requirement already satisfied: threadpoolctl>=3.1.0 in /opt/homebrew/lib/python3.11/site-packages (from scikit-learn>=1.1.3->scanpy>=1.11.2->crp==0.2.0) (3.2.0)\n",
      "Requirement already satisfied: parso<0.9.0,>=0.8.3 in /Users/jameshaberberger/Library/Python/3.11/lib/python/site-packages (from jedi>=0.16->ipython>=7.23.1->ipykernel>=6.29.5->crp==0.2.0) (0.8.4)\n",
      "Requirement already satisfied: ptyprocess>=0.5 in /Users/jameshaberberger/Library/Python/3.11/lib/python/site-packages (from pexpect>4.3->ipython>=7.23.1->ipykernel>=6.29.5->crp==0.2.0) (0.7.0)\n",
      "Requirement already satisfied: wcwidth in /Users/jameshaberberger/Library/Python/3.11/lib/python/site-packages (from prompt-toolkit<3.1.0,>=3.0.41->ipython>=7.23.1->ipykernel>=6.29.5->crp==0.2.0) (0.2.13)\n",
      "Requirement already satisfied: executing>=1.2.0 in /Users/jameshaberberger/Library/Python/3.11/lib/python/site-packages (from stack-data->ipython>=7.23.1->ipykernel>=6.29.5->crp==0.2.0) (2.0.1)\n",
      "Requirement already satisfied: asttokens>=2.1.0 in /Users/jameshaberberger/Library/Python/3.11/lib/python/site-packages (from stack-data->ipython>=7.23.1->ipykernel>=6.29.5->crp==0.2.0) (2.4.1)\n",
      "Requirement already satisfied: pure-eval in /Users/jameshaberberger/Library/Python/3.11/lib/python/site-packages (from stack-data->ipython>=7.23.1->ipykernel>=6.29.5->crp==0.2.0) (0.2.2)\n",
      "\n",
      "\u001b[1m[\u001b[0m\u001b[34;49mnotice\u001b[0m\u001b[1;39;49m]\u001b[0m\u001b[39;49m A new release of pip is available: \u001b[0m\u001b[31;49m24.2\u001b[0m\u001b[39;49m -> \u001b[0m\u001b[32;49m25.1.1\u001b[0m\n",
      "\u001b[1m[\u001b[0m\u001b[34;49mnotice\u001b[0m\u001b[1;39;49m]\u001b[0m\u001b[39;49m To update, run: \u001b[0m\u001b[32;49mpython3.11 -m pip install --upgrade pip\u001b[0m\n"
     ]
    }
   ],
   "source": [
    "!pip install git+https://github.com/jhaberbe/chinese_restaurant_process"
   ]
  },
  {
   "cell_type": "markdown",
   "id": "d74d7d5a",
   "metadata": {},
   "source": [
    "# Using the module\n",
    "\n",
    "Really, the front facing portion is the ChineseRestaurantProcess object. Just pull that out, load your matrix that you want to perform inference on, and then \".run\".\n",
    "\n",
    "You can use a subset of the dataset (1/50th in my experience), and still get fairly robust results!"
   ]
  },
  {
   "cell_type": "code",
   "execution_count": null,
   "id": "a1679717",
   "metadata": {},
   "outputs": [
    {
     "name": "stderr",
     "output_type": "stream",
     "text": [
      "100%|██████████| 1232/1232 [00:01<00:00, 657.70it/s]\n",
      "100%|██████████| 1232/1232 [00:02<00:00, 446.48it/s]\n",
      "100%|██████████| 1232/1232 [00:02<00:00, 419.64it/s]\n",
      "100%|██████████| 1232/1232 [00:02<00:00, 413.71it/s]\n",
      "100%|██████████| 1232/1232 [00:02<00:00, 416.21it/s]\n",
      "100%|██████████| 1232/1232 [00:02<00:00, 414.19it/s]\n",
      "100%|██████████| 1232/1232 [00:02<00:00, 426.59it/s]\n",
      "100%|██████████| 1232/1232 [00:02<00:00, 423.19it/s]\n",
      "100%|██████████| 1232/1232 [00:02<00:00, 422.40it/s]\n",
      "100%|██████████| 1232/1232 [00:02<00:00, 424.26it/s]\n"
     ]
    }
   ],
   "source": [
    "import scanpy as sc\n",
    "from crp.dirichlet import ChineseRestaurantProcess\n",
    "\n",
    "adata = sc.read_h5ad(\"/Users/jameshaberberger/GitHub/chinese-restaurant-process/data/adata.h5ad\")\n",
    "adata = adata[adata.X.sum(axis=1) > 100]\n",
    "\n",
    "crp = ChineseRestaurantProcess(adata[::100].X.todense())\n",
    "crp.run(epochs=10)"
   ]
  },
  {
   "cell_type": "markdown",
   "id": "36dbd434",
   "metadata": {},
   "source": [
    "# Label Transfer\n",
    "\n",
    "Once you've predicted the classes, just assign labels using the predict function. I've included a minimum membership argument, so that you can remove classes with low membership from inference. However, if you wanted, you could always just set it to zero, and get the ful bayesian nonparametric inference experience.."
   ]
  },
  {
   "cell_type": "code",
   "execution_count": 7,
   "id": "d2c7e48e",
   "metadata": {},
   "outputs": [
    {
     "name": "stderr",
     "output_type": "stream",
     "text": [
      "100%|██████████| 123130/123130 [01:04<00:00, 1896.44it/s]\n",
      "/var/folders/2n/j06nrn2n7r524t776sngh0xr0000gr/T/ipykernel_72946/558921049.py:4: ImplicitModificationWarning: Trying to modify attribute `.obs` of view, initializing view as actual.\n",
      "  adata.obs[\"labels\"] = crp.predict(adata.X.todense(), min_membership=0.01)\n"
     ]
    }
   ],
   "source": [
    "# Predict labels for the full dataset\n",
    "# You can adjust the `min_membership` parameter to control the minimum membership threshold for assigning labels.\n",
    "# 1% works well for me. 0% is true CRP, but expect small clusters, which may or may not be representative of reality.\n",
    "adata.obs[\"labels\"] = crp.predict(adata.X.todense(), min_membership=0.01)"
   ]
  },
  {
   "cell_type": "code",
   "execution_count": null,
   "id": "2337fab5",
   "metadata": {},
   "outputs": [],
   "source": []
  }
 ],
 "metadata": {
  "kernelspec": {
   "display_name": ".venv",
   "language": "python",
   "name": "python3"
  },
  "language_info": {
   "codemirror_mode": {
    "name": "ipython",
    "version": 3
   },
   "file_extension": ".py",
   "mimetype": "text/x-python",
   "name": "python",
   "nbconvert_exporter": "python",
   "pygments_lexer": "ipython3",
   "version": "3.12.10"
  }
 },
 "nbformat": 4,
 "nbformat_minor": 5
}
